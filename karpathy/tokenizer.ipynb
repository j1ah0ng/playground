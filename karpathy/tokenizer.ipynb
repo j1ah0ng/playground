{
 "cells": [
  {
   "cell_type": "code",
   "execution_count": 19,
   "id": "75dde79d-da63-4671-b934-1648b0d9fcec",
   "metadata": {},
   "outputs": [
    {
     "data": {
      "text/plain": [
       "'こんにちわ\\u3000你好 hello 😳'"
      ]
     },
     "execution_count": 19,
     "metadata": {},
     "output_type": "execute_result"
    }
   ],
   "source": [
    "s = \"こんにちわ　你好 hello 😳\"\n",
    "s"
   ]
  },
  {
   "cell_type": "code",
   "execution_count": 20,
   "id": "40c892cb-6476-48f9-856d-229afe7199b3",
   "metadata": {},
   "outputs": [
    {
     "data": {
      "text/plain": [
       "16"
      ]
     },
     "execution_count": 20,
     "metadata": {},
     "output_type": "execute_result"
    }
   ],
   "source": [
    "len(s)"
   ]
  },
  {
   "cell_type": "code",
   "execution_count": 21,
   "id": "5726cacc-7373-4fd2-9a41-73bf875823d4",
   "metadata": {},
   "outputs": [
    {
     "data": {
      "text/plain": [
       "[255,\n",
       " 254,\n",
       " 83,\n",
       " 48,\n",
       " 147,\n",
       " 48,\n",
       " 107,\n",
       " 48,\n",
       " 97,\n",
       " 48,\n",
       " 143,\n",
       " 48,\n",
       " 0,\n",
       " 48,\n",
       " 96,\n",
       " 79,\n",
       " 125,\n",
       " 89,\n",
       " 32,\n",
       " 0,\n",
       " 104,\n",
       " 0,\n",
       " 101,\n",
       " 0,\n",
       " 108,\n",
       " 0,\n",
       " 108,\n",
       " 0,\n",
       " 111,\n",
       " 0,\n",
       " 32,\n",
       " 0,\n",
       " 61,\n",
       " 216,\n",
       " 51,\n",
       " 222]"
      ]
     },
     "execution_count": 21,
     "metadata": {},
     "output_type": "execute_result"
    }
   ],
   "source": [
    "list(s.encode(\"utf-16\"))"
   ]
  }
 ],
 "metadata": {
  "kernelspec": {
   "display_name": "Python 3 (ipykernel)",
   "language": "python",
   "name": "python3"
  },
  "language_info": {
   "codemirror_mode": {
    "name": "ipython",
    "version": 3
   },
   "file_extension": ".py",
   "mimetype": "text/x-python",
   "name": "python",
   "nbconvert_exporter": "python",
   "pygments_lexer": "ipython3",
   "version": "3.12.5"
  }
 },
 "nbformat": 4,
 "nbformat_minor": 5
}
