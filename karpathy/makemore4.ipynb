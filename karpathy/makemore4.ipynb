{
 "cells": [
  {
   "cell_type": "code",
   "execution_count": 2,
   "id": "359f3f20-74e0-43d6-b657-c17cd09492ea",
   "metadata": {},
   "outputs": [],
   "source": [
    "import torch\n",
    "import torch.nn.functional as F\n",
    "import matplotlib.pyplot as plt\n",
    "%matplotlib inline"
   ]
  },
  {
   "cell_type": "code",
   "execution_count": 3,
   "id": "856f8823-7c6d-4521-a013-f21986ec2a93",
   "metadata": {},
   "outputs": [
    {
     "name": "stdout",
     "output_type": "stream",
     "text": [
      "{0: '.', 1: 'a', 2: 'b', 3: 'c', 4: 'd', 5: 'e', 6: 'f', 7: 'g', 8: 'h', 9: 'i', 10: 'j', 11: 'k', 12: 'l', 13: 'm', 14: 'n', 15: 'o', 16: 'p', 17: 'q', 18: 'r', 19: 's', 20: 't', 21: 'u', 22: 'v', 23: 'w', 24: 'x', 25: 'y', 26: 'z'}\n",
      "27\n",
      "torch.Size([182625, 9]) torch.Size([182625])\n",
      "torch.Size([22655, 9]) torch.Size([22655])\n",
      "torch.Size([22866, 9]) torch.Size([22866])\n"
     ]
    }
   ],
   "source": [
    "words = open(\"names.txt\", \"r\").read().splitlines()\n",
    "chars = sorted(list(set(''.join(words))))\n",
    "stoi = {s:i for i, s in enumerate([\".\"]+chars)}\n",
    "itos = {i:s for s, i in stoi.items()}\n",
    "vocab_size = len(itos)\n",
    "print(itos)\n",
    "print(vocab_size)\n",
    "block_size = 9 # context length\n",
    "\n",
    "def build_dataset(words):\n",
    "    X, Y = [], []\n",
    "    for w in words:\n",
    "        context = [0] * block_size\n",
    "        for ch in w + '.':\n",
    "            ix = stoi[ch]\n",
    "            X.append(context)\n",
    "            Y.append(ix)\n",
    "            context = context[1:] + [ix] # crop and append\n",
    "    X = torch.tensor(X)\n",
    "    Y = torch.tensor(Y)\n",
    "    print(X.shape, Y.shape)\n",
    "    return X, Y\n",
    "\n",
    "import random\n",
    "random.seed(42)\n",
    "random.shuffle(words)\n",
    "n1 = int(0.8*len(words))\n",
    "n2 = int(0.9*len(words))\n",
    "\n",
    "Xtr,  Ytr  = build_dataset(words[:n1])   # training\n",
    "Xdev, Ydev = build_dataset(words[n1:n2]) # dev\n",
    "Xte,  Yte  = build_dataset(words[n2:])   # test"
   ]
  },
  {
   "cell_type": "code",
   "execution_count": 4,
   "id": "49e3a3f8-8cd6-430f-9f2a-c7b724e5393f",
   "metadata": {},
   "outputs": [],
   "source": [
    "def cmp(s, dt, t):\n",
    "    ex = torch.all(dt == t.grad).item()\n",
    "    app = torch.allclose(dt, t.grad)\n",
    "    maxdiff = (dt - t.grad).abs().max().item()\n",
    "    print(f'{s:15s} | exact: {str(ex):5s} | approximate : {str(app):5s} | maxdiff: {maxdiff}')"
   ]
  },
  {
   "cell_type": "code",
   "execution_count": 5,
   "id": "6e5c0cf9-5e07-4b37-a697-1c40b8e2c7c7",
   "metadata": {},
   "outputs": [
    {
     "name": "stdout",
     "output_type": "stream",
     "text": [
      "24297\n"
     ]
    }
   ],
   "source": [
    "# mlp\n",
    "n_embed = 10 # dimensionality of the character embedding\n",
    "n_hidden = 200 # n neurons in hidden layer of MLP\n",
    "\n",
    "g  = torch.Generator().manual_seed(2147483647)\n",
    "C  = torch.randn((vocab_size, n_embed), generator=g)          # vocabulary lookup into embedding\n",
    "# the \"kaiming-init\"\n",
    "W1 = torch.randn((n_embed*block_size, n_hidden), generator=g) *(5/3)/(n_embed*block_size)**.5 # * 0.2 # embedding into latent space\n",
    "b1 = torch.randn(n_hidden, generator=g) * 0.1                      # latent space bias\n",
    "W2 = torch.randn((n_hidden, vocab_size), generator=g) * 0.1   # embedding into vocabulary one-hot\n",
    "b2 = torch.randn(vocab_size, generator=g) * 0.1                 # vocabulary bias\n",
    "\n",
    "bngain = torch.ones((1, n_hidden))*0.1+1.0\n",
    "bnbias = torch.zeros((1, n_hidden))*0.1\n",
    "\n",
    "parameters = [C, W1, b1, W2, b2, bngain, bnbias]\n",
    "print(sum(p.nelement() for p in parameters))\n",
    "for p in parameters:\n",
    "    p.requires_grad = True\n",
    "# why can't you set W2 to zero to get that expected value?\n",
    "# tbd..."
   ]
  },
  {
   "cell_type": "code",
   "execution_count": 6,
   "id": "2f0dda2c-dd1a-4f36-9e65-9047a972d753",
   "metadata": {},
   "outputs": [],
   "source": [
    "batch_size = 32\n",
    "n = batch_size\n",
    "ix = torch.randint(0, Xtr.shape[0], (batch_size,), generator=g)\n",
    "Xb, Yb = Xtr[ix], Ytr[ix]"
   ]
  },
  {
   "cell_type": "code",
   "execution_count": 7,
   "id": "bf0ece8d-a0b4-475c-8b8a-fa87a6947b34",
   "metadata": {},
   "outputs": [
    {
     "data": {
      "text/plain": [
       "tensor(3.7248, grad_fn=<NegBackward0>)"
      ]
     },
     "execution_count": 7,
     "metadata": {},
     "output_type": "execute_result"
    }
   ],
   "source": [
    "# forward pass, \"chunkated\" into smaller steps that are possible to backward one at a time\n",
    "\n",
    "emb = C[Xb] # embed the characters into vectors\n",
    "embcat = emb.view(emb.shape[0], -1) # concatenate the vectors\n",
    "# Linear layer 1\n",
    "hprebn = embcat @ W1 + b1 # hidden layer pre-activation\n",
    "# BatchNorm layer\n",
    "bnmeani = 1/n*hprebn.sum(0, keepdim=True)\n",
    "bndiff = hprebn - bnmeani\n",
    "bndiff2 = bndiff**2\n",
    "bnvar = 1/(n-1)*(bndiff2).sum(0, keepdim=True) # note: Bessel's correction (dividing by n-1, not n)\n",
    "bnvar_inv = (bnvar + 1e-5)**-0.5\n",
    "bnraw = bndiff * bnvar_inv\n",
    "hpreact = bngain * bnraw + bnbias\n",
    "# Non-linearity\n",
    "h = torch.tanh(hpreact) # hidden layer\n",
    "# Linear layer 2\n",
    "logits = h @ W2 + b2 # output layer\n",
    "# cross entropy loss (same as F.cross_entropy(logits, Yb))\n",
    "logit_maxes = logits.max(1, keepdim=True).values\n",
    "norm_logits = logits - logit_maxes # subtract max for numerical stability\n",
    "counts = norm_logits.exp()\n",
    "counts_sum = counts.sum(1, keepdims=True)\n",
    "counts_sum_inv = counts_sum**-1 # if I use (1.0 / counts_sum) instead then I can't get backprop to be bit exact...\n",
    "probs = counts * counts_sum_inv\n",
    "logprobs = probs.log()\n",
    "loss = -logprobs[range(n), Yb].mean()\n",
    "\n",
    "# PyTorch backward pass\n",
    "for p in parameters:\n",
    "  p.grad = None\n",
    "for t in [logprobs, probs, counts, counts_sum, counts_sum_inv, # afaik there is no cleaner way\n",
    "          norm_logits, logit_maxes, logits, h, hpreact, bnraw,\n",
    "         bnvar_inv, bnvar, bndiff2, bndiff, hprebn, bnmeani,\n",
    "         embcat, emb]:\n",
    "  t.retain_grad()\n",
    "loss.backward()\n",
    "loss"
   ]
  },
  {
   "cell_type": "code",
   "execution_count": 10,
   "id": "fb3b9db1-69ef-48ef-af29-1a67df138a95",
   "metadata": {},
   "outputs": [
    {
     "data": {
      "text/plain": [
       "torch.Size([27, 200])"
      ]
     },
     "execution_count": 10,
     "metadata": {},
     "output_type": "execute_result"
    }
   ],
   "source": [
    "W2.T.shape"
   ]
  },
  {
   "cell_type": "code",
   "execution_count": 11,
   "id": "c276f1f0-cc27-40d9-8178-b2c84bf0619c",
   "metadata": {},
   "outputs": [
    {
     "data": {
      "text/plain": [
       "torch.Size([32, 27])"
      ]
     },
     "execution_count": 11,
     "metadata": {},
     "output_type": "execute_result"
    }
   ],
   "source": [
    "dlogits.shape"
   ]
  },
  {
   "cell_type": "code",
   "execution_count": 15,
   "id": "9dad1e81-0346-41ab-8a87-112731b76758",
   "metadata": {},
   "outputs": [
    {
     "data": {
      "text/plain": [
       "torch.Size([27])"
      ]
     },
     "execution_count": 15,
     "metadata": {},
     "output_type": "execute_result"
    }
   ],
   "source": [
    "b2.shape"
   ]
  },
  {
   "cell_type": "code",
   "execution_count": 20,
   "id": "a5b5cef7-02e6-460d-b39a-0f282b5c77d3",
   "metadata": {},
   "outputs": [],
   "source": [
    "dlogprobs = torch.zeros_like(logprobs)\n",
    "dlogprobs[range(n), Yb] = -1.0 / n\n",
    "\n",
    "dprobs = probs**(-1) * dlogprobs\n",
    "\n",
    "dcounts_sum_inv = (counts * dprobs).sum(dim=1, keepdims=True)\n",
    "\n",
    "dcounts_sum = (-counts_sum**-2) * dcounts_sum_inv\n",
    "\n",
    "dcounts = counts_sum_inv * dprobs + dcounts_sum\n",
    "\n",
    "dnorm_logits = counts * dcounts\n",
    "\n",
    "dlogits = dnorm_logits.clone()\n",
    "dlogit_maxes = (-dnorm_logits).sum(dim=1, keepdims=True)\n",
    "# dlogit_max is propagated only into index that has the actual argmax\n",
    "dlogits += torch.scatter(torch.zeros_like(dlogits), 1, torch.argmax(logits, dim=1, keepdim=True), dlogit_maxes)\n",
    "\n",
    "dh = dlogits @ W2.T\n",
    "dW2 = h.T @ dlogits\n",
    "db2 = dlogits.sum(0)"
   ]
  },
  {
   "cell_type": "code",
   "execution_count": 21,
   "id": "a4d9b284-2554-45b7-9776-3878e19a3804",
   "metadata": {},
   "outputs": [
    {
     "name": "stdout",
     "output_type": "stream",
     "text": [
      "logprobs        | exact: True  | approximate : True  | maxdiff: 0.0\n",
      "probs           | exact: True  | approximate : True  | maxdiff: 0.0\n",
      "counts_sum_inv  | exact: True  | approximate : True  | maxdiff: 0.0\n",
      "counts_sum      | exact: True  | approximate : True  | maxdiff: 0.0\n",
      "counts          | exact: True  | approximate : True  | maxdiff: 0.0\n",
      "norm_logits     | exact: True  | approximate : True  | maxdiff: 0.0\n",
      "logit_maxes     | exact: True  | approximate : True  | maxdiff: 0.0\n",
      "logits          | exact: True  | approximate : True  | maxdiff: 0.0\n",
      "h               | exact: True  | approximate : True  | maxdiff: 0.0\n",
      "W2              | exact: True  | approximate : True  | maxdiff: 0.0\n",
      "b2              | exact: True  | approximate : True  | maxdiff: 0.0\n"
     ]
    },
    {
     "ename": "NameError",
     "evalue": "name 'dhpreact' is not defined",
     "output_type": "error",
     "traceback": [
      "\u001b[0;31m---------------------------------------------------------------------------\u001b[0m",
      "\u001b[0;31mNameError\u001b[0m                                 Traceback (most recent call last)",
      "Cell \u001b[0;32mIn[21], line 12\u001b[0m\n\u001b[1;32m     10\u001b[0m cmp(\u001b[38;5;124m'\u001b[39m\u001b[38;5;124mW2\u001b[39m\u001b[38;5;124m'\u001b[39m, dW2, W2)\n\u001b[1;32m     11\u001b[0m cmp(\u001b[38;5;124m'\u001b[39m\u001b[38;5;124mb2\u001b[39m\u001b[38;5;124m'\u001b[39m, db2, b2)\n\u001b[0;32m---> 12\u001b[0m cmp(\u001b[38;5;124m'\u001b[39m\u001b[38;5;124mhpreact\u001b[39m\u001b[38;5;124m'\u001b[39m, \u001b[43mdhpreact\u001b[49m, hpreact)\n\u001b[1;32m     13\u001b[0m cmp(\u001b[38;5;124m'\u001b[39m\u001b[38;5;124mbngain\u001b[39m\u001b[38;5;124m'\u001b[39m, dbngain, bngain)\n\u001b[1;32m     14\u001b[0m cmp(\u001b[38;5;124m'\u001b[39m\u001b[38;5;124mbnbias\u001b[39m\u001b[38;5;124m'\u001b[39m, dbnbias, bnbias)\n",
      "\u001b[0;31mNameError\u001b[0m: name 'dhpreact' is not defined"
     ]
    }
   ],
   "source": [
    "cmp('logprobs', dlogprobs, logprobs)\n",
    "cmp('probs', dprobs, probs)\n",
    "cmp('counts_sum_inv', dcounts_sum_inv, counts_sum_inv)\n",
    "cmp('counts_sum', dcounts_sum, counts_sum)\n",
    "cmp('counts', dcounts, counts)\n",
    "cmp('norm_logits', dnorm_logits, norm_logits)\n",
    "cmp('logit_maxes', dlogit_maxes, logit_maxes)\n",
    "cmp('logits', dlogits, logits)\n",
    "cmp('h', dh, h)\n",
    "cmp('W2', dW2, W2)\n",
    "cmp('b2', db2, b2)\n",
    "cmp('hpreact', dhpreact, hpreact)\n",
    "cmp('bngain', dbngain, bngain)\n",
    "cmp('bnbias', dbnbias, bnbias)\n",
    "cmp('bnraw', dbnraw, bnraw)\n",
    "cmp('bnvar_inv', dbnvar_inv, bnvar_inv)\n",
    "cmp('bnvar', dbnvar, bnvar)\n",
    "cmp('bndiff2', dbndiff2, bndiff2)\n",
    "cmp('bndiff', dbndiff, bndiff)\n",
    "cmp('bnmeani', dbnmeani, bnmeani)\n",
    "cmp('hprebn', dhprebn, hprebn)\n",
    "cmp('embcat', dembcat, embcat)\n",
    "cmp('W1', dW1, W1)\n",
    "cmp('b1', db1, b1)\n",
    "cmp('emb', demb, emb)\n",
    "cmp('C', dC, C)"
   ]
  }
 ],
 "metadata": {
  "kernelspec": {
   "display_name": "Python 3 (ipykernel)",
   "language": "python",
   "name": "python3"
  },
  "language_info": {
   "codemirror_mode": {
    "name": "ipython",
    "version": 3
   },
   "file_extension": ".py",
   "mimetype": "text/x-python",
   "name": "python",
   "nbconvert_exporter": "python",
   "pygments_lexer": "ipython3",
   "version": "3.12.5"
  }
 },
 "nbformat": 4,
 "nbformat_minor": 5
}
