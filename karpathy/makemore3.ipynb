{
 "cells": [
  {
   "cell_type": "code",
   "execution_count": 1,
   "id": "ead1efe6-e0a1-4e81-8bbd-07a9a4568495",
   "metadata": {},
   "outputs": [],
   "source": [
    "import torch\n",
    "import torch.nn.functional as F\n",
    "import matplotlib.pyplot as plt\n",
    "%matplotlib inline"
   ]
  },
  {
   "cell_type": "code",
   "execution_count": 2,
   "id": "c124fae6-e6c6-4b15-b83a-8c84f909e2e7",
   "metadata": {},
   "outputs": [
    {
     "data": {
      "text/plain": [
       "['emma', 'olivia', 'ava', 'isabella', 'sophia', 'charlotte', 'mia', 'amelia']"
      ]
     },
     "execution_count": 2,
     "metadata": {},
     "output_type": "execute_result"
    }
   ],
   "source": [
    "words = open(\"names.txt\", \"r\").read().splitlines()\n",
    "words[:8]"
   ]
  },
  {
   "cell_type": "code",
   "execution_count": 3,
   "id": "a552834a-f7ca-4523-8696-c73c977f3a89",
   "metadata": {},
   "outputs": [
    {
     "data": {
      "text/plain": [
       "32033"
      ]
     },
     "execution_count": 3,
     "metadata": {},
     "output_type": "execute_result"
    }
   ],
   "source": [
    "len(words)"
   ]
  },
  {
   "cell_type": "code",
   "execution_count": 4,
   "id": "a226e735-080a-45a3-ae26-2b0d56b161cd",
   "metadata": {},
   "outputs": [
    {
     "name": "stdout",
     "output_type": "stream",
     "text": [
      "{0: '.', 1: 'a', 2: 'b', 3: 'c', 4: 'd', 5: 'e', 6: 'f', 7: 'g', 8: 'h', 9: 'i', 10: 'j', 11: 'k', 12: 'l', 13: 'm', 14: 'n', 15: 'o', 16: 'p', 17: 'q', 18: 'r', 19: 's', 20: 't', 21: 'u', 22: 'v', 23: 'w', 24: 'x', 25: 'y', 26: 'z'}\n",
      "27\n"
     ]
    }
   ],
   "source": [
    "chars = sorted(list(set(''.join(words))))\n",
    "stoi = {s:i for i, s in enumerate([\".\"]+chars)}\n",
    "itos = {i:s for s, i in stoi.items()}\n",
    "vocab_size = len(itos)\n",
    "print(itos)\n",
    "print(vocab_size)"
   ]
  },
  {
   "cell_type": "code",
   "execution_count": 5,
   "id": "4c423d36-013c-4023-b923-0efdc9af749f",
   "metadata": {},
   "outputs": [
    {
     "name": "stdout",
     "output_type": "stream",
     "text": [
      "torch.Size([182625, 3]) torch.Size([182625])\n",
      "torch.Size([22655, 3]) torch.Size([22655])\n",
      "torch.Size([22866, 3]) torch.Size([22866])\n"
     ]
    }
   ],
   "source": [
    "block_size = 3 # context length\n",
    "\n",
    "def build_dataset(words):\n",
    "    X, Y = [], []\n",
    "    for w in words:\n",
    "        context = [0] * block_size\n",
    "        for ch in w + '.':\n",
    "            ix = stoi[ch]\n",
    "            X.append(context)\n",
    "            Y.append(ix)\n",
    "            context = context[1:] + [ix] # crop and append\n",
    "    X = torch.tensor(X)\n",
    "    Y = torch.tensor(Y)\n",
    "    print(X.shape, Y.shape)\n",
    "    return X, Y\n",
    "\n",
    "import random\n",
    "random.seed(42)\n",
    "random.shuffle(words)\n",
    "n1 = int(0.8*len(words))\n",
    "n2 = int(0.9*len(words))\n",
    "\n",
    "Xtr,  Ytr  = build_dataset(words[:n1])   # training\n",
    "Xdev, Ydev = build_dataset(words[n1:n2]) # dev\n",
    "Xte,  Yte  = build_dataset(words[n2:])   # test"
   ]
  },
  {
   "cell_type": "code",
   "execution_count": 75,
   "id": "8a91b8bb-441c-41a7-b70e-e261c3b6f071",
   "metadata": {},
   "outputs": [
    {
     "name": "stdout",
     "output_type": "stream",
     "text": [
      "12297\n"
     ]
    }
   ],
   "source": [
    "# mlp\n",
    "n_embed = 10 # dimensionality of the character embedding\n",
    "n_hidden = 200 # n neurons in hidden layer of MLP\n",
    "\n",
    "g  = torch.Generator().manual_seed(2147483647)\n",
    "C  = torch.randn((vocab_size, n_embed), generator=g)          # vocabulary lookup into embedding\n",
    "# the \"kaiming-init\"\n",
    "W1 = torch.randn((n_embed*block_size, n_hidden), generator=g) *(5/3)/(n_embed*block_size)**.5 # * 0.2 # embedding into latent space\n",
    "b1 = torch.randn(n_hidden, generator=g) * 0.1                      # latent space bias\n",
    "W2 = torch.randn((n_hidden, vocab_size), generator=g) * 0.1   # embedding into vocabulary one-hot\n",
    "b2 = torch.randn(vocab_size, generator=g) * 0                 # vocabulary bias\n",
    "\n",
    "bngain = torch.ones((1, n_hidden))\n",
    "bnbias = torch.zeros((1, n_hidden))\n",
    "\n",
    "parameters = [C, W1, b1, W2, b2, bngain, bnbias]\n",
    "print(sum(p.nelement() for p in parameters))\n",
    "for p in parameters:\n",
    "    p.requires_grad = True\n",
    "# why can't you set W2 to zero to get that expected value?\n",
    "# tbd..."
   ]
  },
  {
   "cell_type": "code",
   "execution_count": 58,
   "id": "3154e1ce-dbb5-4c2a-85d6-c061a0c7123d",
   "metadata": {},
   "outputs": [
    {
     "name": "stdout",
     "output_type": "stream",
     "text": [
      "tensor(0.0090) tensor(0.9980)\n",
      "tensor(-0.0024) tensor(0.9868)\n"
     ]
    },
    {
     "data": {
      "image/png": "[encoded data removed]",
      "text/plain": [
       "<Figure size 2000x500 with 2 Axes>"
      ]
     },
     "metadata": {},
     "output_type": "display_data"
    }
   ],
   "source": [
    "# what is a good initialization for weights and biases?\n",
    "x = torch.randn(1000, 10)\n",
    "w = torch.randn(10, 200) / (10**.5)\n",
    "y = x @ w\n",
    "print(x.mean(), x.std())\n",
    "print(y.mean(), y.std()) # the stddev has gone from 1 to 3 after w. the gaussian expands\n",
    "\n",
    "# scaling w will help us preserve the stddev close to 1. \n",
    "# mathematically, you divide by sqrt(fan-in). fan_in = # input columns.\n",
    "\n",
    "plt.figure(figsize=(20, 5))\n",
    "plt.subplot(121)\n",
    "plt.hist(x.view(-1).tolist(), 50, density=True);\n",
    "plt.subplot(122)\n",
    "plt.hist(y.view(-1).tolist(), 50, density=True);"
   ]
  },
  {
   "cell_type": "code",
   "execution_count": 68,
   "id": "aaa9669a-34d4-4562-8bd7-1131786843ed",
   "metadata": {},
   "outputs": [
    {
     "data": {
      "text/plain": [
       "torch.Size([32, 200])"
      ]
     },
     "execution_count": 68,
     "metadata": {},
     "output_type": "execute_result"
    }
   ],
   "source": [
    "hpreact.shape"
   ]
  },
  {
   "cell_type": "code",
   "execution_count": 72,
   "id": "d8d1e202-384e-49a6-ac61-f4737ca7ced6",
   "metadata": {},
   "outputs": [
    {
     "data": {
      "text/plain": [
       "torch.Size([1, 200])"
      ]
     },
     "execution_count": 72,
     "metadata": {},
     "output_type": "execute_result"
    }
   ],
   "source": [
    "hpreact.std(0, keepdim=True).shape"
   ]
  },
  {
   "cell_type": "code",
   "execution_count": 76,
   "id": "e470e2ce-f779-4c96-b748-b8f88e2e9006",
   "metadata": {},
   "outputs": [
    {
     "name": "stdout",
     "output_type": "stream",
     "text": [
      "      0/ 200000: 3.7900\n",
      "  10000/ 200000: 2.1688\n",
      "  20000/ 200000: 2.4154\n",
      "  30000/ 200000: 2.4466\n",
      "  40000/ 200000: 1.9891\n",
      "  50000/ 200000: 2.3907\n",
      "  60000/ 200000: 2.4331\n",
      "  70000/ 200000: 2.0376\n",
      "  80000/ 200000: 2.4163\n",
      "  90000/ 200000: 2.1735\n",
      " 100000/ 200000: 1.9519\n",
      " 110000/ 200000: 2.3468\n",
      " 120000/ 200000: 2.0179\n",
      " 130000/ 200000: 2.4662\n",
      " 140000/ 200000: 2.3045\n",
      " 150000/ 200000: 2.1351\n",
      " 160000/ 200000: 1.9420\n",
      " 170000/ 200000: 1.7860\n",
      " 180000/ 200000: 1.9887\n",
      " 190000/ 200000: 1.9237\n"
     ]
    }
   ],
   "source": [
    "# optimize\n",
    "max_steps = 200_000\n",
    "batch_size = 32\n",
    "lossi = []\n",
    "\n",
    "for i in range(max_steps):\n",
    "\n",
    "    # build the minibatch\n",
    "    ix = torch.randint(0, Xtr.shape[0], (batch_size,), generator=g) # indices into the training set\n",
    "    Xb, Yb = Xtr[ix], Ytr[ix] # the actual training subset\n",
    "\n",
    "    # forward pass\n",
    "    emb = C[Xb] # lut into embedding\n",
    "    embcat = emb.view(emb.shape[0], -1) # concatenate the three vectors into a constant length-3 token\n",
    "\n",
    "    # we want hpreact ~ N(0, 1).\n",
    "    # batch-normalization:\n",
    "    #  why not just do that by definition. normalize the hidden states so they are gaussian.\n",
    "    # literally just map into zscores\n",
    "    hpreact = embcat @ W1 + b1 # hidden layer before activation\n",
    "    hpreact = (hpreact - hpreact.mean(0, keepdim=True)) / hpreact.std(0, keepdim=True)\n",
    "\n",
    "    # but we can't do this on every batch. we want the distribution to move around.\n",
    "    # allow backprop to tell us how to shift it.\n",
    "    # introduce the bngain and bnbias.\n",
    "    # so it can move the distribution around.\n",
    "    hpreact = hpreact * bngain + bnbias\n",
    "    \n",
    "    h = torch.tanh(hpreact) # hidden layer\n",
    "    logits = h @ W2 + b2 # output layer\n",
    "    loss = F.cross_entropy(logits, Yb) # loss.\n",
    "\n",
    "    # recall that\n",
    "    # XEL is given by NLL on softmax:\n",
    "    # counts = logits.exp()\n",
    "    # probs = counts / counts.sum(1, keepdims=True)\n",
    "    # NLL(avg) = -probs.log().mean()\n",
    "\n",
    "    # backwards\n",
    "    for p in parameters:\n",
    "        p.grad = None\n",
    "    loss.backward()\n",
    "\n",
    "    # update\n",
    "    lr = 0.1 if i < max_steps/2 else 0.01\n",
    "    for p in parameters:\n",
    "        p.data += -lr * p.grad\n",
    "\n",
    "    # stats\n",
    "    if i % 10_000 == 0:\n",
    "        print(f'{i:7d}/{max_steps:7d}: {loss.item():.4f}')\n",
    "    lossi.append(loss.log10().item())\n",
    "    "
   ]
  },
  {
   "cell_type": "code",
   "execution_count": 47,
   "id": "fe0b07d4-78c7-4374-9e09-6cb52fd6241f",
   "metadata": {},
   "outputs": [
    {
     "name": "stdout",
     "output_type": "stream",
     "text": [
      "torch.Size([32, 200])\n"
     ]
    },
    {
     "data": {
      "text/plain": [
       "(array([155., 180., 151., 170., 165., 145., 134., 102., 127., 122., 122.,\n",
       "        107.,  95., 114.,  88.,  99.,  98.,  98., 114., 115.,  98., 101.,\n",
       "        105., 121.,  93.,  89., 110., 104., 103.,  91., 107., 109., 108.,\n",
       "         95., 128., 107., 137., 116., 114., 126., 127., 147., 152., 162.,\n",
       "        161., 198., 169., 194., 225., 202.]),\n",
       " array([-9.98971939e-01, -9.59029787e-01, -9.19087634e-01, -8.79145482e-01,\n",
       "        -8.39203329e-01, -7.99261177e-01, -7.59319024e-01, -7.19376872e-01,\n",
       "        -6.79434719e-01, -6.39492567e-01, -5.99550414e-01, -5.59608262e-01,\n",
       "        -5.19666109e-01, -4.79723957e-01, -4.39781804e-01, -3.99839652e-01,\n",
       "        -3.59897499e-01, -3.19955347e-01, -2.80013194e-01, -2.40071042e-01,\n",
       "        -2.00128889e-01, -1.60186737e-01, -1.20244584e-01, -8.03024316e-02,\n",
       "        -4.03602791e-02, -4.18126583e-04,  3.95240259e-02,  7.94661784e-02,\n",
       "         1.19408331e-01,  1.59350483e-01,  1.99292636e-01,  2.39234788e-01,\n",
       "         2.79176941e-01,  3.19119093e-01,  3.59061246e-01,  3.99003398e-01,\n",
       "         4.38945551e-01,  4.78887703e-01,  5.18829856e-01,  5.58772008e-01,\n",
       "         5.98714161e-01,  6.38656313e-01,  6.78598466e-01,  7.18540618e-01,\n",
       "         7.58482771e-01,  7.98424923e-01,  8.38367076e-01,  8.78309228e-01,\n",
       "         9.18251381e-01,  9.58193533e-01,  9.98135686e-01]),\n",
       " <BarContainer object of 50 artists>)"
      ]
     },
     "execution_count": 47,
     "metadata": {},
     "output_type": "execute_result"
    },
    {
     "data": {
      "image/png": "[encoded data removed]",
      "text/plain": [
       "<Figure size 640x480 with 1 Axes>"
      ]
     },
     "metadata": {},
     "output_type": "display_data"
    }
   ],
   "source": [
    "print(h.shape)\n",
    "h # has many +/-1 values... this is weird because it shows asymptotic behavior.b\n",
    "plt.hist(h.view(-1).tolist(), 50)"
   ]
  },
  {
   "cell_type": "code",
   "execution_count": 48,
   "id": "5885250b-53de-43d9-b19a-6e9c98d67a2c",
   "metadata": {},
   "outputs": [
    {
     "data": {
      "text/plain": [
       "(array([  2.,   1.,   0.,   4.,   3.,   4.,   7.,   9.,   9.,  17.,  28.,\n",
       "         40.,  47.,  76.,  73., 105., 134., 176., 201., 207., 226., 297.,\n",
       "        278., 315., 368., 389., 378., 340., 353., 344., 297., 285., 273.,\n",
       "        222., 204., 174., 108.,  98.,  90.,  60.,  43.,  28.,  26.,  19.,\n",
       "         12.,  11.,   9.,   2.,   3.,   5.]),\n",
       " array([-3.78636837e+00, -3.64087019e+00, -3.49537201e+00, -3.34987383e+00,\n",
       "        -3.20437565e+00, -3.05887747e+00, -2.91337929e+00, -2.76788111e+00,\n",
       "        -2.62238293e+00, -2.47688475e+00, -2.33138657e+00, -2.18588839e+00,\n",
       "        -2.04039021e+00, -1.89489202e+00, -1.74939384e+00, -1.60389566e+00,\n",
       "        -1.45839748e+00, -1.31289930e+00, -1.16740112e+00, -1.02190294e+00,\n",
       "        -8.76404762e-01, -7.30906582e-01, -5.85408401e-01, -4.39910221e-01,\n",
       "        -2.94412041e-01, -1.48913860e-01, -3.41567993e-03,  1.42082500e-01,\n",
       "         2.87580681e-01,  4.33078861e-01,  5.78577042e-01,  7.24075222e-01,\n",
       "         8.69573402e-01,  1.01507158e+00,  1.16056976e+00,  1.30606794e+00,\n",
       "         1.45156612e+00,  1.59706430e+00,  1.74256248e+00,  1.88806067e+00,\n",
       "         2.03355885e+00,  2.17905703e+00,  2.32455521e+00,  2.47005339e+00,\n",
       "         2.61555157e+00,  2.76104975e+00,  2.90654793e+00,  3.05204611e+00,\n",
       "         3.19754429e+00,  3.34304247e+00,  3.48854065e+00]),\n",
       " <BarContainer object of 50 artists>)"
      ]
     },
     "execution_count": 48,
     "metadata": {},
     "output_type": "execute_result"
    },
    {
     "data": {
      "image/png": "[encoded data removed]",
      "text/plain": [
       "<Figure size 640x480 with 1 Axes>"
      ]
     },
     "metadata": {},
     "output_type": "display_data"
    }
   ],
   "source": [
    "# why?\n",
    "# broad distribution. large stddev\n",
    "# but why is this a problem?\n",
    "# the gradient at extreme values of tanh is very shallow. bad! slow convergence.\n",
    "\n",
    "# to fix this, we can make W1, b1 close to zero just as we did before too.\n",
    "\n",
    "# the deeper the network, the more important your initializations are.\n",
    "\n",
    "plt.hist(hpreact.view(-1).tolist(), 50)"
   ]
  },
  {
   "cell_type": "code",
   "execution_count": 49,
   "id": "112e29af-4d24-4ece-8651-b5aaef61aaa7",
   "metadata": {},
   "outputs": [
    {
     "data": {
      "text/plain": [
       "<matplotlib.image.AxesImage at 0x1659a5ca0>"
      ]
     },
     "execution_count": 49,
     "metadata": {},
     "output_type": "execute_result"
    },
    {
     "data": {
      "image/png": "[encoded data removed]",
      "text/plain": [
       "<Figure size 640x480 with 1 Axes>"
      ]
     },
     "metadata": {},
     "output_type": "display_data"
    }
   ],
   "source": [
    "# completely white columns correspond to a \"dead\" neuron.\n",
    "# it means the hidden layer is fully outside of the tanh\n",
    "# slope regime, so it won't learn because the gradient\n",
    "# vanishes.\n",
    "plt.imshow(h.abs() > 0.99, interpolation='nearest')"
   ]
  },
  {
   "cell_type": "code",
   "execution_count": 20,
   "id": "dab8fc07-8554-4576-971a-f89dd17c0f29",
   "metadata": {},
   "outputs": [
    {
     "data": {
      "text/plain": [
       "tensor([-0.2490,  3.5232, -1.2675,  0.5407,  1.6622, -1.1708, -0.1398,  0.1242,\n",
       "         0.9210,  1.1347,  1.3624, -0.9252,  0.4438, -2.4594, -0.9714,  0.1247,\n",
       "        -0.9572, -1.3763, -2.3287, -0.1374,  2.4522,  1.6165,  1.6649, -1.0944,\n",
       "        -2.1544,  0.7255,  1.1413], grad_fn=<SelectBackward0>)"
      ]
     },
     "execution_count": 20,
     "metadata": {},
     "output_type": "execute_result"
    }
   ],
   "source": [
    "# with randn initialized W2:\n",
    "logits[0] # extreme values! confidently wrong. want it close to zero."
   ]
  },
  {
   "cell_type": "code",
   "execution_count": 66,
   "id": "a4c6d19d-f2b7-4b0d-ba68-63de6c86b01d",
   "metadata": {},
   "outputs": [
    {
     "data": {
      "text/plain": [
       "[<matplotlib.lines.Line2D at 0x165b8b9e0>]"
      ]
     },
     "execution_count": 66,
     "metadata": {},
     "output_type": "execute_result"
    },
    {
     "data": {
      "image/png": "[encoded data removed]",
      "text/plain": [
       "<Figure size 640x480 with 1 Axes>"
      ]
     },
     "metadata": {},
     "output_type": "display_data"
    }
   ],
   "source": [
    "plt.plot(lossi)"
   ]
  },
  {
   "cell_type": "code",
   "execution_count": 98,
   "id": "011e4294-71d9-4c75-83a2-88fe0859c8a0",
   "metadata": {},
   "outputs": [],
   "source": [
    "with torch.no_grad():\n",
    "    emb = C[Xtr]\n",
    "    embcat = emb.view(emb.shape[0], -1)\n",
    "    hpreact = embcat @ W1 + b1\n",
    "    bnmean = hpreact.mean(0, keepdim=True)\n",
    "    bnstd = hpreact.std(0, keepdim=True)"
   ]
  },
  {
   "cell_type": "code",
   "execution_count": 99,
   "id": "2ad925b8-2cd6-4252-a7e2-db1caa9e0122",
   "metadata": {},
   "outputs": [
    {
     "name": "stdout",
     "output_type": "stream",
     "text": [
      "train 2.070509910583496\n",
      "val 2.107753276824951\n"
     ]
    }
   ],
   "source": [
    "# evaluate the train and validation loss\n",
    "@torch.no_grad\n",
    "def split_loss(split):\n",
    "    x, y = {\n",
    "        \"train\": (Xtr, Ytr),\n",
    "        \"val\" : (Xdev, Ydev),\n",
    "        \"test\": (Xte, Yte),\n",
    "    }[split]\n",
    "    emb = C[x]\n",
    "    hpreact = (emb.view(x.shape[0], -1) @ W1 + b1)\n",
    "    hpreact = bngain * (hpreact - bnmean) / bnstd + bnbias\n",
    "    h = torch.tanh(hpreact)\n",
    "    logits = h @ W2 + b2\n",
    "    loss = F.cross_entropy(logits, y)\n",
    "    print(split, loss.item())\n",
    "\n",
    "split_loss(\"train\")\n",
    "split_loss(\"val\")"
   ]
  },
  {
   "cell_type": "code",
   "execution_count": 100,
   "id": "68e872d1-b8d8-46d9-8f05-900e2eb8ff3c",
   "metadata": {},
   "outputs": [
    {
     "name": "stdout",
     "output_type": "stream",
     "text": [
      "carmahzaal.\n",
      "harlikimri.\n",
      "reetlanna.\n",
      "sane.\n",
      "mahnee.\n",
      "delynn.\n",
      "jareei.\n",
      "nellara.\n",
      "chaiiv.\n",
      "kaleigh.\n",
      "ham.\n",
      "joce.\n",
      "quinn.\n",
      "shoisea.\n",
      "jadbi.\n",
      "wavero.\n",
      "dearisia.\n",
      "kaellinsley.\n",
      "dae.\n",
      "oia.\n"
     ]
    }
   ],
   "source": [
    "# sample from the model\n",
    "g = torch.Generator().manual_seed(2147483647 + 10)\n",
    "for _ in range(20):\n",
    "    out = []\n",
    "    context = [0] * block_size\n",
    "    while True:\n",
    "        # forward passes only\n",
    "        emb = C[torch.tensor([context])] # (n=1, block_size, n_embed)\n",
    "        hpreact = (emb.view(1, -1) @ W1 + b1)\n",
    "        hpreact = bngain * (hpreact - bnmean)/bnstd + bnbias\n",
    "        h = torch.tanh(hpreact)\n",
    "        logits = h @ W2 + b2\n",
    "        probs = F.softmax(logits, dim=1)\n",
    "        ix = torch.multinomial(probs, num_samples=1, generator=g).item()\n",
    "        # shift context window and track samples\n",
    "        context = context[1:] + [ix]\n",
    "        out.append(ix)\n",
    "        if ix == 0:\n",
    "            break # if itos[ix] == \".\"\n",
    "    print(''.join(itos[i] for i in out))"
   ]
  },
  {
   "cell_type": "code",
   "execution_count": 11,
   "id": "bcd49612-f333-461f-9f8a-a0109a2863d6",
   "metadata": {},
   "outputs": [
    {
     "data": {
      "text/plain": [
       "tensor(3.2958)"
      ]
     },
     "execution_count": 11,
     "metadata": {},
     "output_type": "execute_result"
    }
   ],
   "source": [
    "# calculating expected initial loss.\n",
    "# any given prob for a char should be:\n",
    "p = torch.tensor(1/27.0)\n",
    "# and the NLL should be\n",
    "-p.log()"
   ]
  },
  {
   "cell_type": "code",
   "execution_count": 13,
   "id": "0f1682c5-0468-4445-a0c6-f53ccccf04c3",
   "metadata": {},
   "outputs": [
    {
     "data": {
      "text/plain": [
       "(tensor([0.0066, 0.0066, 0.9802, 0.0066]), tensor(0.0200))"
      ]
     },
     "execution_count": 13,
     "metadata": {},
     "output_type": "execute_result"
    }
   ],
   "source": [
    "# smaller example.\n",
    "logits = torch.tensor([0.0, 0.0, 5.0, 0.0])\n",
    "probs = torch.softmax(logits, dim=0)\n",
    "loss = -probs[2].log()\n",
    "probs, loss\n",
    "\n",
    "# basically, you want logits to be close to zero at initialization.\n",
    "# but why not zero?"
   ]
  }
 ],
 "metadata": {
  "kernelspec": {
   "display_name": "Python 3 (ipykernel)",
   "language": "python",
   "name": "python3"
  },
  "language_info": {
   "codemirror_mode": {
    "name": "ipython",
    "version": 3
   },
   "file_extension": ".py",
   "mimetype": "text/x-python",
   "name": "python",
   "nbconvert_exporter": "python",
   "pygments_lexer": "ipython3",
   "version": "3.12.4"
  }
 },
 "nbformat": 4,
 "nbformat_minor": 5
}
