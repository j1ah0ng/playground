{
 "cells": [
  {
   "cell_type": "code",
   "execution_count": 2,
   "id": "1645f658-4718-48c0-a8cd-817b980f09c2",
   "metadata": {},
   "outputs": [
    {
     "name": "stdout",
     "output_type": "stream",
     "text": [
      "--2024-08-04 20:02:05--  https://raw.githubusercontent.com/karpathy/makemore/master/names.txt\n",
      "Resolving raw.githubusercontent.com (raw.githubusercontent.com)... 185.199.109.133, 185.199.110.133, 185.199.111.133, ...\n",
      "Connecting to raw.githubusercontent.com (raw.githubusercontent.com)|185.199.109.133|:443... connected.\n",
      "HTTP request sent, awaiting response... 200 OK\n",
      "Length: 228145 (223K) [text/plain]\n",
      "Saving to: ‘names.txt.1’\n",
      "\n",
      "names.txt.1         100%[===================>] 222.80K  --.-KB/s    in 0.04s   \n",
      "\n",
      "2024-08-04 20:02:05 (5.48 MB/s) - ‘names.txt.1’ saved [228145/228145]\n",
      "\n"
     ]
    }
   ],
   "source": [
    "!wget https://raw.githubusercontent.com/karpathy/makemore/master/names.txt"
   ]
  },
  {
   "cell_type": "code",
   "execution_count": null,
   "id": "68451695-f5c7-4734-9705-c4099f267580",
   "metadata": {},
   "outputs": [],
   "source": []
  },
  {
   "cell_type": "code",
   "execution_count": 4,
   "id": "d7166537-1693-4f18-8a61-bdd08a1b7488",
   "metadata": {},
   "outputs": [],
   "source": [
    "import torch.nn.functional as F\n",
    "import torch\n",
    "\n",
    "device = torch.device('mps')\n",
    "\n",
    "words = open('names.txt', 'r').read().splitlines()\n",
    "words[:10]\n",
    "N = torch.zeros((27, 27), dtype=torch.int32)\n",
    "chars = ['.'] + (sorted(list(set(''.join(words)))))\n",
    "stoi = {s: i for i, s in enumerate(chars)}\n",
    "itos = {i: s for s, i in stoi.items()}"
   ]
  },
  {
   "cell_type": "code",
   "execution_count": 10,
   "id": "2afc95cc-6c69-4513-8444-d8cb421e49fe",
   "metadata": {},
   "outputs": [],
   "source": [
    "for w in words:\n",
    "    chs = ['.'] + list(w) + ['.']\n",
    "    for ch1, ch2 in zip(chs, chs[1:]):\n",
    "        ix1 = stoi[ch1]\n",
    "        ix2 = stoi[ch2]\n",
    "        N[ix1, ix2] += 1"
   ]
  },
  {
   "cell_type": "code",
   "execution_count": 8,
   "id": "23c7ae8f-8c64-4739-b302-cc407abe93fa",
   "metadata": {},
   "outputs": [
    {
     "data": {
      "text/plain": [
       "<matplotlib.image.AxesImage at 0x16b1a4bf0>"
      ]
     },
     "execution_count": 8,
     "metadata": {},
     "output_type": "execute_result"
    },
    {
     "data": {
      "image/png": "[encoded data removed]",
      "text/plain": [
       "<Figure size 640x480 with 1 Axes>"
      ]
     },
     "metadata": {},
     "output_type": "display_data"
    }
   ],
   "source": [
    "import matplotlib.pyplot as plt\n",
    "%matplotlib  inline\n",
    "\n",
    "plt.imshow(N)"
   ]
  },
  {
   "cell_type": "code",
   "execution_count": 83,
   "id": "d1261f62-ce94-41b8-a1d1-987c5ffe5b70",
   "metadata": {},
   "outputs": [
    {
     "data": {
      "text/plain": [
       "torch.Size([27, 1])"
      ]
     },
     "execution_count": 83,
     "metadata": {},
     "output_type": "execute_result"
    }
   ],
   "source": [
    "P.sum(1, keepdim=True).shape"
   ]
  },
  {
   "cell_type": "code",
   "execution_count": 98,
   "id": "14a2016d-6ca0-4afa-817f-afad0ba2db44",
   "metadata": {},
   "outputs": [],
   "source": [
    "P = (N+1).float()\n",
    "P /= P.sum(1, keepdim=True)"
   ]
  },
  {
   "cell_type": "code",
   "execution_count": 99,
   "id": "9acd4060-d170-41ef-99f0-f8ddc9254390",
   "metadata": {},
   "outputs": [
    {
     "name": "stdout",
     "output_type": "stream",
     "text": [
      "cexze.\n",
      "momasurailezitynn.\n",
      "konimittain.\n",
      "llayn.\n",
      "ka.\n",
      "da.\n",
      "staiyaubrtthrigotai.\n",
      "moliellavo.\n",
      "ke.\n",
      "teda.\n",
      "ka.\n",
      "emimmsade.\n",
      "enkaviyny.\n",
      "ftlspihinivenvorhlasu.\n",
      "dsor.\n",
      "br.\n",
      "jol.\n",
      "pen.\n",
      "aisan.\n",
      "ja.\n"
     ]
    }
   ],
   "source": [
    "g = torch.Generator().manual_seed(2147483647)\n",
    "for i in range(20):\n",
    "    ix = 0\n",
    "    out = []\n",
    "    while True:\n",
    "        p = P[ix]\n",
    "        # p = p / p.sum()\n",
    "        ix = torch.multinomial(p, num_samples=1, replacement=True, generator=g).item()\n",
    "        out.append(itos[ix])\n",
    "        if ix == 0:\n",
    "            break\n",
    "    print(\"\".join(out))"
   ]
  },
  {
   "cell_type": "code",
   "execution_count": 103,
   "id": "629ffb97-9e62-4315-aca7-bf84e8eab208",
   "metadata": {},
   "outputs": [
    {
     "name": "stdout",
     "output_type": "stream",
     "text": [
      "nll=tensor(559938.8125)\n",
      "avg_nll=tensor(2.4543)\n"
     ]
    }
   ],
   "source": [
    "# Likelihood = product of ALL probabilities on the training set.\n",
    "# But this is tiny.\n",
    "# So they work with log likelihood. \n",
    "# Log of products is sum of logs.\n",
    "# We want probability -> 1. \n",
    "# So we take the negative log likelihood. \n",
    "\n",
    "nll = 0.0\n",
    "avg_nll = 0.0\n",
    "n = 0\n",
    "for w in words:\n",
    "    chs = ['.'] + list(w) + ['.']\n",
    "    for ch1, ch2 in zip(chs, chs[1:]):\n",
    "        n += 1\n",
    "        ix1 = stoi[ch1]\n",
    "        ix2 = stoi[ch2]\n",
    "        p = P[ix1, ix2]\n",
    "        logp = torch.log(p)\n",
    "        nll -= logp\n",
    "        #print(f\"{ch1}{ch2}: {P[ix1, ix2]:.4f} {logp:.4f}\")\n",
    "avg_nll = nll / n\n",
    "print(f\"{nll=}\")\n",
    "print(f\"{avg_nll=}\")"
   ]
  },
  {
   "cell_type": "markdown",
   "id": "b8895ab3-e7b2-420f-871d-190dc4752e29",
   "metadata": {},
   "source": [
    "## nn approach"
   ]
  },
  {
   "cell_type": "code",
   "execution_count": 13,
   "id": "9fc4bcc5-86bb-4abe-add6-8d8e63b1ef00",
   "metadata": {},
   "outputs": [
    {
     "data": {
      "text/plain": [
       "tensor([[1., 0., 0., 0., 0., 0., 0., 0., 0., 0., 0., 0., 0., 0., 0., 0., 0., 0.,\n",
       "         0., 0., 0., 0., 0., 0., 0., 0., 0.],\n",
       "        [0., 0., 0., 0., 0., 1., 0., 0., 0., 0., 0., 0., 0., 0., 0., 0., 0., 0.,\n",
       "         0., 0., 0., 0., 0., 0., 0., 0., 0.],\n",
       "        [0., 0., 0., 0., 0., 0., 0., 0., 0., 0., 0., 0., 0., 1., 0., 0., 0., 0.,\n",
       "         0., 0., 0., 0., 0., 0., 0., 0., 0.],\n",
       "        [0., 0., 0., 0., 0., 0., 0., 0., 0., 0., 0., 0., 0., 1., 0., 0., 0., 0.,\n",
       "         0., 0., 0., 0., 0., 0., 0., 0., 0.],\n",
       "        [0., 1., 0., 0., 0., 0., 0., 0., 0., 0., 0., 0., 0., 0., 0., 0., 0., 0.,\n",
       "         0., 0., 0., 0., 0., 0., 0., 0., 0.]])"
      ]
     },
     "execution_count": 13,
     "metadata": {},
     "output_type": "execute_result"
    }
   ],
   "source": [
    "# train/test split on bigrams\n",
    "\n",
    "xs, ys = [], []\n",
    "\n",
    "for w in words[:1]:\n",
    "    chs = ['.'] + list(w) + ['.']\n",
    "    for ch1, ch2 in zip(chs, chs[1:]):\n",
    "        ix1 = stoi[ch1]\n",
    "        ix2 = stoi[ch2]\n",
    "        xs.append(ix1)\n",
    "        ys.append(ix2)\n",
    "\n",
    "xs = torch.tensor(xs)\n",
    "ys = torch.tensor(ys)\n",
    "\n",
    "# can't plug integer indices into neural nets.\n",
    "# the neural net will give us one-hot probabilities on the outputs. \n",
    "# encode the inputs like that, as floats.\n",
    "xenc = F.one_hot(xs, num_classes = 27).float()\n",
    "xenc"
   ]
  },
  {
   "cell_type": "code",
   "execution_count": 118,
   "id": "fce210aa-4cb8-402c-999b-054e3dfdf002",
   "metadata": {},
   "outputs": [
    {
     "data": {
      "text/plain": [
       "tensor([[-0.1028,  0.7623,  0.2024,  0.0711, -0.8137,  0.4077,  2.1116, -0.5089,\n",
       "         -0.3318, -1.1819,  0.5963,  0.6191, -1.5235, -1.0351,  1.3587,  0.8343,\n",
       "          1.1642, -0.0277, -0.6163, -0.7182, -2.2452, -1.0511, -0.7420,  0.5654,\n",
       "          0.1090, -0.7727, -0.2026],\n",
       "        [-0.8037,  2.2078,  2.5926, -0.0237, -1.6223, -0.7206, -0.5024, -0.6034,\n",
       "         -1.2975,  0.0232, -0.3389, -0.1924,  0.0110, -0.1196, -0.6577,  0.6314,\n",
       "         -0.7795, -0.0582, -0.1258, -1.1945, -0.3051, -0.6690,  0.5202, -1.4686,\n",
       "          0.1563,  1.3229, -0.4395],\n",
       "        [ 0.7278,  1.4760, -0.2153,  0.7162, -1.6537, -0.1023, -0.1715,  0.2846,\n",
       "         -1.7208,  0.4465, -0.4684, -0.1269, -0.8256,  1.0582, -1.6515, -0.8425,\n",
       "         -2.1360, -1.2853, -0.7218, -0.7105,  0.0186, -0.5569, -0.1143, -1.1410,\n",
       "          1.0940, -1.3196,  0.3603],\n",
       "        [ 0.7278,  1.4760, -0.2153,  0.7162, -1.6537, -0.1023, -0.1715,  0.2846,\n",
       "         -1.7208,  0.4465, -0.4684, -0.1269, -0.8256,  1.0582, -1.6515, -0.8425,\n",
       "         -2.1360, -1.2853, -0.7218, -0.7105,  0.0186, -0.5569, -0.1143, -1.1410,\n",
       "          1.0940, -1.3196,  0.3603],\n",
       "        [-0.1431,  1.1140,  0.0612,  0.5292,  1.4143, -1.2765,  0.6405, -0.5929,\n",
       "         -0.3524, -1.4670,  0.3831,  0.5256,  1.4920,  0.2565,  0.1339,  0.6371,\n",
       "          1.0446,  1.0769,  0.1552, -0.4872,  0.6569,  0.8724,  0.5171, -0.3732,\n",
       "         -1.5648, -0.1143,  1.6088]])"
      ]
     },
     "execution_count": 118,
     "metadata": {},
     "output_type": "execute_result"
    }
   ],
   "source": [
    "W = torch.randn((27,27))\n",
    "xenc @ W"
   ]
  },
  {
   "cell_type": "code",
   "execution_count": 10,
   "id": "69b00ba4-8376-49c2-97c5-a5ce3f11ebcb",
   "metadata": {},
   "outputs": [
    {
     "ename": "NameError",
     "evalue": "name 'W' is not defined",
     "output_type": "error",
     "traceback": [
      "\u001b[0;31m---------------------------------------------------------------------------\u001b[0m",
      "\u001b[0;31mNameError\u001b[0m                                 Traceback (most recent call last)",
      "Cell \u001b[0;32mIn[10], line 4\u001b[0m\n\u001b[1;32m      1\u001b[0m \u001b[38;5;66;03m# NN outputs are centered around zero. how do we translate them into a probability?\u001b[39;00m\n\u001b[1;32m      2\u001b[0m \u001b[38;5;66;03m# interpret the outputs as \"log counts\". log counts are \"logits\". equivalent to the N matrix\u001b[39;00m\n\u001b[1;32m      3\u001b[0m \u001b[38;5;66;03m# from before.\u001b[39;00m\n\u001b[0;32m----> 4\u001b[0m logits \u001b[38;5;241m=\u001b[39m xenc \u001b[38;5;241m@\u001b[39m \u001b[43mW\u001b[49m\n\u001b[1;32m      6\u001b[0m \u001b[38;5;66;03m# the following is softmax:\u001b[39;00m\n\u001b[1;32m      7\u001b[0m \u001b[38;5;66;03m# softmax == \"log counts\" to \"probs\"\u001b[39;00m\n\u001b[1;32m      8\u001b[0m counts \u001b[38;5;241m=\u001b[39m logits\u001b[38;5;241m.\u001b[39mexp()\n",
      "\u001b[0;31mNameError\u001b[0m: name 'W' is not defined"
     ]
    }
   ],
   "source": [
    "# NN outputs are centered around zero. how do we translate them into a probability?\n",
    "# interpret the outputs as \"log counts\". log counts are \"logits\". equivalent to the N matrix\n",
    "# from before.\n",
    "logits = xenc @ W\n",
    "\n",
    "# the following is softmax:\n",
    "# softmax == \"log counts\" to \"probs\"\n",
    "counts = logits.exp()\n",
    "probs = counts / counts.sum(1, keepdims=True)\n",
    "probs"
   ]
  },
  {
   "cell_type": "code",
   "execution_count": 14,
   "id": "0e4bbab4-e409-4718-9ed9-c961a6174d81",
   "metadata": {},
   "outputs": [
    {
     "name": "stdout",
     "output_type": "stream",
     "text": [
      "n examples =  1390\n"
     ]
    }
   ],
   "source": [
    "xs, ys = [], []\n",
    "\n",
    "for w in words[:200]:\n",
    "    chs = ['.'] + list(w) + ['.']\n",
    "    for ch1, ch2 in zip(chs, chs[1:]):\n",
    "        ix1 = stoi[ch1]\n",
    "        ix2 = stoi[ch2]\n",
    "        xs.append(ix1)\n",
    "        ys.append(ix2)\n",
    "xs = torch.tensor(xs)#.to(device)\n",
    "ys = torch.tensor(ys)#.to(device)\n",
    "\n",
    "num = xs.nelement()\n",
    "print('n examples = ', num)\n",
    "\n",
    "# randomly initialize 27 neurons, each on 27 dim\n",
    "g = torch.Generator().manual_seed(2147483647)\n",
    "W = torch.randn((27, 27), generator=g, requires_grad=True)#.to(device)"
   ]
  },
  {
   "cell_type": "code",
   "execution_count": null,
   "id": "49314aa3-2991-4391-b581-4e7e04fd7917",
   "metadata": {},
   "outputs": [],
   "source": []
  },
  {
   "cell_type": "code",
   "execution_count": null,
   "id": "90abf5be-e447-45a9-b369-b1ea566c27a6",
   "metadata": {},
   "outputs": [],
   "source": [
    "\n",
    "\n",
    "sdkfjsldkjflskdjflksdjlkjj\n",
    "kjjjjjj"
   ]
  },
  {
   "cell_type": "code",
   "execution_count": null,
   "id": "5cdb1033-f1e1-4d92-bc01-fbda63a31fb7",
   "metadata": {},
   "outputs": [],
   "source": [
    "dd"
   ]
  },
  {
   "cell_type": "code",
   "execution_count": 13,
   "id": "cd0e4625-5727-4498-adb8-89bcf0537610",
   "metadata": {},
   "outputs": [
    {
     "name": "stdout",
     "output_type": "stream",
     "text": [
      "3.0677237510681152\n",
      "2.7266533374786377\n",
      "2.7242002487182617\n",
      "2.723475217819214\n",
      "2.7231571674346924\n",
      "2.7229864597320557\n",
      "2.7228844165802\n",
      "2.7228198051452637\n",
      "2.7227768898010254\n",
      "2.722747325897217\n"
     ]
    }
   ],
   "source": [
    "for k in range(1000):\n",
    "    # fwd\n",
    "    xenc = F.one_hot(xs, num_classes=27).float() # input\n",
    "    logits = xenc @ W # prdcit log-counts\n",
    "    counts = logits.exp() # convt to counts\n",
    "    probs = counts / counts.sum(1, keepdims=True)\n",
    "    \n",
    "    loss = -probs[:, ys].log().mean()\n",
    "\n",
    "    if k % 100 == 0:\n",
    "        print(loss.item())\n",
    "\n",
    "    # back\n",
    "    W.grad = None\n",
    "    loss.backward()\n",
    "    W.data += -90 * W.grad"
   ]
  },
  {
   "cell_type": "code",
   "execution_count": null,
   "id": "16e5e796-a697-4d01-a667-bc720563afba",
   "metadata": {},
   "outputs": [],
   "source": [
    "\n",
    "\n",
    "\n",
    "\n"
   ]
  },
  {
   "cell_type": "code",
   "execution_count": null,
   "id": "5c429b06-ff52-4c86-a5ac-71bbb328cb83",
   "metadata": {},
   "outputs": [],
   "source": [
    "\n",
    "\n",
    "\n",
    "\n",
    "\n"
   ]
  },
  {
   "cell_type": "code",
   "execution_count": null,
   "id": "3ef5879d-4c0c-47fd-bf04-858308dd0049",
   "metadata": {},
   "outputs": [],
   "source": [
    "W.grad = None\n",
    "loss.backward()\n",
    "W.data += -0.1 * W.grad"
   ]
  }
 ],
 "metadata": {
  "kernelspec": {
   "display_name": "Python 3 (ipykernel)",
   "language": "python",
   "name": "python3"
  },
  "language_info": {
   "codemirror_mode": {
    "name": "ipython",
    "version": 3
   },
   "file_extension": ".py",
   "mimetype": "text/x-python",
   "name": "python",
   "nbconvert_exporter": "python",
   "pygments_lexer": "ipython3",
   "version": "3.12.4"
  }
 },
 "nbformat": 4,
 "nbformat_minor": 5
}
