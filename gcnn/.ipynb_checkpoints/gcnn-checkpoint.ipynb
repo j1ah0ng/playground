{
 "cells": [
  {
   "cell_type": "markdown",
   "id": "dda2288e-9c1a-4f6d-9663-b1ff3f253574",
   "metadata": {},
   "source": [
    "# attempt to reproduce the GCNN paper"
   ]
  },
  {
   "cell_type": "markdown",
   "id": "f8b0665a-b787-4a31-9449-424a788e4001",
   "metadata": {},
   "source": [
    "do a stupid CNN implementation on mnist first"
   ]
  },
  {
   "cell_type": "markdown",
   "id": "d9db2e2e-9d1a-4c01-b1e6-efd01ef8f242",
   "metadata": {},
   "source": [
    "## load the digits dataset"
   ]
  },
  {
   "cell_type": "code",
   "execution_count": 1,
   "id": "19837194-9a83-4989-8415-0a675ff3aa56",
   "metadata": {},
   "outputs": [],
   "source": [
    "import torch\n",
    "import torch.nn.functional as F\n",
    "from sklearn.datasets import load_digits\n",
    "import matplotlib.pyplot as plt\n",
    "import torch.nn as nn\n",
    "\n",
    "from torch.optim import SGD\n",
    "from sklearn.datasets import fetch_openml\n",
    "import numpy as np\n",
    "\n",
    "import time"
   ]
  },
  {
   "cell_type": "code",
   "execution_count": 2,
   "id": "21cfc15c-07e5-4d4b-8c81-29376136f34e",
   "metadata": {},
   "outputs": [],
   "source": [
    "device = torch.device(\"mps\")"
   ]
  },
  {
   "cell_type": "code",
   "execution_count": 3,
   "id": "c669d891-6313-4fce-bcfe-1e371005287a",
   "metadata": {},
   "outputs": [],
   "source": [
    "ds = load_digits()\n",
    "digits = torch.tensor(ds.data)"
   ]
  },
  {
   "cell_type": "code",
   "execution_count": 4,
   "id": "f6ca132b-6211-4470-a97d-f1e04f386ea2",
   "metadata": {},
   "outputs": [
    {
     "data": {
      "text/plain": [
       "<matplotlib.image.AxesImage at 0x300ee7b90>"
      ]
     },
     "execution_count": 4,
     "metadata": {},
     "output_type": "execute_result"
    },
    {
     "data": {
      "image/png": "[encoded data removed]",
      "text/plain": [
       "<Figure size 100x100 with 1 Axes>"
      ]
     },
     "metadata": {},
     "output_type": "display_data"
    }
   ],
   "source": [
    "plt.figure(figsize=(1,1))\n",
    "plt.imshow(digits.view(-1, 8, 8)[0], cmap='gray')"
   ]
  },
  {
   "cell_type": "code",
   "execution_count": 5,
   "id": "582566d3-9f3f-4cc3-afb1-3b0fb7a93bda",
   "metadata": {},
   "outputs": [
    {
     "data": {
      "text/plain": [
       "0"
      ]
     },
     "execution_count": 5,
     "metadata": {},
     "output_type": "execute_result"
    }
   ],
   "source": [
    "ds.target[0].item()"
   ]
  },
  {
   "cell_type": "code",
   "execution_count": 6,
   "id": "e02857c6-db02-481f-b8ba-799611c0c759",
   "metadata": {},
   "outputs": [
    {
     "data": {
      "text/plain": [
       "torch.Size([1797, 64])"
      ]
     },
     "execution_count": 6,
     "metadata": {},
     "output_type": "execute_result"
    }
   ],
   "source": [
    "# hooray reshape it \n",
    "Xs = digits #.view(-1, 8, 8)\n",
    "Xs.shape"
   ]
  },
  {
   "cell_type": "code",
   "execution_count": 7,
   "id": "c8d96872-a74f-45b6-b015-dd944deb979c",
   "metadata": {},
   "outputs": [],
   "source": [
    "# one-hot the output\n",
    "Ycl = torch.tensor(ds.target)\n",
    "n_classes = Ycl.unique().shape[0]\n",
    "Ys = F.one_hot(Ycl, n_classes)"
   ]
  },
  {
   "cell_type": "markdown",
   "id": "7fa2b8b8-68fd-44ae-af42-8eb48d619b1a",
   "metadata": {},
   "source": [
    "## tts"
   ]
  },
  {
   "cell_type": "code",
   "execution_count": 8,
   "id": "4459a95a-b3e5-450f-826e-c7981cf14c27",
   "metadata": {},
   "outputs": [],
   "source": [
    "# cast\n",
    "Xs = Xs.float() / 16.0\n",
    "Ys = Ys.float()"
   ]
  },
  {
   "cell_type": "code",
   "execution_count": 9,
   "id": "c90f9103-6220-4df9-96d6-d067a5292ecb",
   "metadata": {},
   "outputs": [],
   "source": [
    "N = Ys.shape[0]\n",
    "\n",
    "i1 = int(0.8 * N)\n",
    "i2 = int(0.9 * N)\n",
    "\n",
    "Xtr, Ytr = Xs[:i1].to(device), Ys[:i1].to(device)\n",
    "Xdv, Ydv = Xs[i1:i2].to(device), Ys[i1:i2].to(device)\n",
    "Xte, Yte = Xs[i2:].to(device), Ys[i2:].to(device)"
   ]
  },
  {
   "cell_type": "code",
   "execution_count": 10,
   "id": "7fcb04b1-0ca9-41c8-a835-77fdb7e7ff5e",
   "metadata": {},
   "outputs": [],
   "source": [
    "def calc_loss(split: str):\n",
    "    Xs, Ys = {\n",
    "        \"train\": (Xtr, Ytr),\n",
    "        \"val\":   (Xdv, Ydv),\n",
    "        \"test\":  (Xte, Yte),\n",
    "    }[split]\n",
    "    with torch.no_grad():\n",
    "        Yhat = network.forward(Xs)\n",
    "        loss = F.cross_entropy(Yhat, Ys)\n",
    "        print(f\"{split} loss = {loss.item():.4f}\")"
   ]
  },
  {
   "cell_type": "markdown",
   "id": "7fd33abe-8e11-43be-b5f5-4ad14363162b",
   "metadata": {},
   "source": [
    "## stupid cnn architecture"
   ]
  },
  {
   "cell_type": "code",
   "execution_count": 11,
   "id": "c20ab90a-417f-4538-8cc3-68a6a2c1579a",
   "metadata": {},
   "outputs": [
    {
     "data": {
      "text/plain": [
       "tensor(2.3026)"
      ]
     },
     "execution_count": 11,
     "metadata": {},
     "output_type": "execute_result"
    }
   ],
   "source": [
    "# what is the expected loss, assuming equally-likely outputs?\n",
    "stupid_logits = torch.tensor([0.0] * 10)\n",
    "stupid_logits[0] = 0.0\n",
    "stupid_counts = stupid_logits.exp()\n",
    "stupid_probs = stupid_counts / stupid_counts.sum(0, keepdim=True)\n",
    "\n",
    "# neg log likelihood\n",
    "-stupid_probs[0].log()"
   ]
  },
  {
   "cell_type": "code",
   "execution_count": 12,
   "id": "738cb7bf-bcdc-4cb0-80c5-50ff4367d23b",
   "metadata": {},
   "outputs": [],
   "source": [
    "G  = torch.Generator().manual_seed(2147483647)\n",
    "\n",
    "class SingleLayer(nn.Module):\n",
    "    def __init__(self):\n",
    "\n",
    "        super().__init__()\n",
    "        \n",
    "        self.im_sidelen: int   = 8\n",
    "        self.input_dim: int    = self.im_sidelen**2\n",
    "        self.output_dim: int   = n_classes\n",
    "        \n",
    "        self.kernel_size: int  = 5\n",
    "        self.padding: int      = 2\n",
    "\n",
    "        self.kernel_size2: int = 3\n",
    "        self.padding2: int     = 1\n",
    "\n",
    "        # (n, 8, 8) -> (n, 2, 8, 8)\n",
    "        self.conv1 = nn.Conv2d(1, 2, kernel_size=self.kernel_size, padding=self.padding)\n",
    "\n",
    "        # (n, 2, 8, 8) -> (n, 2, 8, 8)\n",
    "        self.bn1 = nn.BatchNorm2d(2)\n",
    "        \n",
    "        # (n, 2, 8, 8) -> (n, 2, 4, 4)\n",
    "        self.pool1 = nn.MaxPool2d(2)\n",
    "\n",
    "        # (n, 2, 4, 4) -> (n, 4, 4, 4)\n",
    "        self.conv2 = nn.Conv2d(2, 4, kernel_size=self.kernel_size2, padding=self.padding2)\n",
    "\n",
    "        # (n, 4, 4, 4) -> (n, 4, 4, 4)\n",
    "        self.bn2 = nn.BatchNorm2d(4)\n",
    "\n",
    "        # (n, 4, 4, 4) -> (n, 4, 2, 2)\n",
    "        self.pool2 = nn.MaxPool2d(2)\n",
    "        \n",
    "        # (n, 4, 4, 4) -> (n, 16) -> (n, 16)\n",
    "        self.W1 = nn.Linear(16, 10)\n",
    "\n",
    "        self.layers = [\n",
    "            self.conv1, self.bn1, self.pool1,\n",
    "            self.conv2, self.bn2, self.pool2,\n",
    "            self.W1\n",
    "        ]\n",
    "        \n",
    "        # \"principled\" initializations\n",
    "        g = nn.init.calculate_gain(\"relu\")\n",
    "        nn.init.xavier_uniform_(self.W1.weight, gain=g, generator=G)\n",
    "        nn.init.uniform_(self.bn1.weight, generator=G)\n",
    "        nn.init.uniform_(self.bn2.weight, generator=G)\n",
    "        nn.init.zeros_(self.bn1.bias)\n",
    "        nn.init.zeros_(self.bn2.bias)\n",
    "        \n",
    "        # nn.init.xavier_uniform_(self.W2.weight, gain=g, generator=G)\n",
    "\n",
    "    def forward(self, x):\n",
    "        pool1 = self.conv1(x.view(-1, 1, self.im_sidelen, self.im_sidelen))\n",
    "        pool1 = self.pool1(pool1)\n",
    "        pool1 = self.bn1(pool1)              \n",
    "        pool1 = F.relu(pool1)\n",
    "\n",
    "        pool1 = F.dropout(pool1, p=0.2)\n",
    "        \n",
    "        pool2 = self.conv2(pool1)\n",
    "        pool2 = self.pool2(pool2)\n",
    "        pool2 = self.bn2(pool2)        \n",
    "        pool2 = F.relu(pool2)\n",
    "\n",
    "        pool2 = F.dropout(pool2, p=0.2)\n",
    "        \n",
    "        h1 = F.relu(self.W1(pool2.view(-1, 16)))\n",
    "\n",
    "        return h1       \n",
    "\n",
    "    def zero_grad(self):\n",
    "        for p in self.parameters():\n",
    "            p.grad = None\n",
    "\n"
   ]
  },
  {
   "cell_type": "code",
   "execution_count": 13,
   "id": "6cf69c8f-0942-425d-bbd1-7103757377cb",
   "metadata": {},
   "outputs": [
    {
     "data": {
      "text/plain": [
       "1797"
      ]
     },
     "execution_count": 13,
     "metadata": {},
     "output_type": "execute_result"
    }
   ],
   "source": [
    "N"
   ]
  },
  {
   "cell_type": "code",
   "execution_count": 47,
   "id": "2e124021-2ffb-4d35-bd2b-45bca470cee8",
   "metadata": {},
   "outputs": [
    {
     "name": "stdout",
     "output_type": "stream",
     "text": [
      "       0/  200000: loss=2.3597. device=mps:0. avg epoch time=0.022099\n",
      "    1000/  200000: loss=1.3228. device=mps:0. avg epoch time=0.003505\n",
      "    2000/  200000: loss=1.1173. device=mps:0. avg epoch time=0.003441\n",
      "    3000/  200000: loss=1.0090. device=mps:0. avg epoch time=0.003446\n",
      "    4000/  200000: loss=0.8733. device=mps:0. avg epoch time=0.003454\n",
      "    5000/  200000: loss=0.7602. device=mps:0. avg epoch time=0.003457\n",
      "    6000/  200000: loss=0.8364. device=mps:0. avg epoch time=0.003453\n",
      "    7000/  200000: loss=0.5808. device=mps:0. avg epoch time=0.003450\n",
      "    8000/  200000: loss=0.5427. device=mps:0. avg epoch time=0.003445\n",
      "    9000/  200000: loss=0.6707. device=mps:0. avg epoch time=0.003442\n",
      "   10000/  200000: loss=0.5580. device=mps:0. avg epoch time=0.003441\n",
      "   11000/  200000: loss=0.4779. device=mps:0. avg epoch time=0.003436\n",
      "   12000/  200000: loss=0.5330. device=mps:0. avg epoch time=0.003435\n",
      "   13000/  200000: loss=0.4914. device=mps:0. avg epoch time=0.003430\n",
      "   14000/  200000: loss=0.4969. device=mps:0. avg epoch time=0.003430\n",
      "   15000/  200000: loss=0.4698. device=mps:0. avg epoch time=0.003433\n",
      "   16000/  200000: loss=0.5188. device=mps:0. avg epoch time=0.003432\n",
      "   17000/  200000: loss=0.4577. device=mps:0. avg epoch time=0.003435\n",
      "   18000/  200000: loss=0.4857. device=mps:0. avg epoch time=0.003441\n",
      "   19000/  200000: loss=0.5108. device=mps:0. avg epoch time=0.003444\n",
      "   20000/  200000: loss=0.5198. device=mps:0. avg epoch time=0.003444\n",
      "   21000/  200000: loss=0.5435. device=mps:0. avg epoch time=0.003441\n",
      "   22000/  200000: loss=0.4685. device=mps:0. avg epoch time=0.003442\n",
      "   23000/  200000: loss=0.4758. device=mps:0. avg epoch time=0.003440\n",
      "   24000/  200000: loss=0.4390. device=mps:0. avg epoch time=0.003437\n",
      "   25000/  200000: loss=0.4261. device=mps:0. avg epoch time=0.003436\n",
      "   26000/  200000: loss=0.4699. device=mps:0. avg epoch time=0.003434\n",
      "   27000/  200000: loss=0.5124. device=mps:0. avg epoch time=0.003433\n",
      "   28000/  200000: loss=0.4713. device=mps:0. avg epoch time=0.003433\n",
      "   29000/  200000: loss=0.4285. device=mps:0. avg epoch time=0.003438\n",
      "   30000/  200000: loss=0.4678. device=mps:0. avg epoch time=0.003440\n",
      "   31000/  200000: loss=0.4742. device=mps:0. avg epoch time=0.003442\n",
      "   32000/  200000: loss=0.4517. device=mps:0. avg epoch time=0.003444\n",
      "   33000/  200000: loss=0.4283. device=mps:0. avg epoch time=0.003446\n",
      "   34000/  200000: loss=0.5020. device=mps:0. avg epoch time=0.003449\n",
      "   35000/  200000: loss=0.4580. device=mps:0. avg epoch time=0.003450\n",
      "   36000/  200000: loss=0.4845. device=mps:0. avg epoch time=0.003449\n",
      "   37000/  200000: loss=0.5351. device=mps:0. avg epoch time=0.003451\n",
      "   38000/  200000: loss=0.4355. device=mps:0. avg epoch time=0.003452\n",
      "   39000/  200000: loss=0.4476. device=mps:0. avg epoch time=0.003452\n",
      "   40000/  200000: loss=0.5464. device=mps:0. avg epoch time=0.003455\n",
      "   41000/  200000: loss=0.4262. device=mps:0. avg epoch time=0.003457\n",
      "   42000/  200000: loss=0.4524. device=mps:0. avg epoch time=0.003457\n",
      "   43000/  200000: loss=0.4209. device=mps:0. avg epoch time=0.003458\n",
      "   44000/  200000: loss=0.4401. device=mps:0. avg epoch time=0.003460\n",
      "   45000/  200000: loss=0.4039. device=mps:0. avg epoch time=0.003463\n",
      "   46000/  200000: loss=0.5404. device=mps:0. avg epoch time=0.003466\n",
      "   47000/  200000: loss=0.4833. device=mps:0. avg epoch time=0.003466\n",
      "   48000/  200000: loss=0.5003. device=mps:0. avg epoch time=0.003467\n",
      "   49000/  200000: loss=0.4991. device=mps:0. avg epoch time=0.003468\n",
      "   50000/  200000: loss=0.4613. device=mps:0. avg epoch time=0.003469\n",
      "   51000/  200000: loss=0.4693. device=mps:0. avg epoch time=0.003471\n",
      "   52000/  200000: loss=0.4187. device=mps:0. avg epoch time=0.003472\n",
      "   53000/  200000: loss=0.5225. device=mps:0. avg epoch time=0.003472\n",
      "   54000/  200000: loss=0.3927. device=mps:0. avg epoch time=0.003473\n",
      "   55000/  200000: loss=0.4344. device=mps:0. avg epoch time=0.003474\n",
      "   56000/  200000: loss=0.4300. device=mps:0. avg epoch time=0.003475\n",
      "   57000/  200000: loss=0.4452. device=mps:0. avg epoch time=0.003475\n",
      "   58000/  200000: loss=0.4334. device=mps:0. avg epoch time=0.003476\n",
      "   59000/  200000: loss=0.4243. device=mps:0. avg epoch time=0.003477\n",
      "   60000/  200000: loss=0.4676. device=mps:0. avg epoch time=0.003478\n",
      "   61000/  200000: loss=0.4672. device=mps:0. avg epoch time=0.003480\n",
      "   62000/  200000: loss=0.4334. device=mps:0. avg epoch time=0.003480\n",
      "   63000/  200000: loss=0.5144. device=mps:0. avg epoch time=0.003481\n",
      "   64000/  200000: loss=0.4682. device=mps:0. avg epoch time=0.003481\n",
      "   65000/  200000: loss=0.4492. device=mps:0. avg epoch time=0.003482\n",
      "   66000/  200000: loss=0.5057. device=mps:0. avg epoch time=0.003483\n",
      "   67000/  200000: loss=0.5000. device=mps:0. avg epoch time=0.003484\n",
      "   68000/  200000: loss=0.4981. device=mps:0. avg epoch time=0.003484\n",
      "   69000/  200000: loss=0.4845. device=mps:0. avg epoch time=0.003484\n",
      "   70000/  200000: loss=0.4853. device=mps:0. avg epoch time=0.003484\n",
      "   71000/  200000: loss=0.5005. device=mps:0. avg epoch time=0.003485\n",
      "   72000/  200000: loss=0.4773. device=mps:0. avg epoch time=0.003486\n",
      "   73000/  200000: loss=0.4780. device=mps:0. avg epoch time=0.003486\n",
      "   74000/  200000: loss=0.5285. device=mps:0. avg epoch time=0.003487\n",
      "   75000/  200000: loss=0.4747. device=mps:0. avg epoch time=0.003488\n",
      "   76000/  200000: loss=0.5163. device=mps:0. avg epoch time=0.003489\n",
      "   77000/  200000: loss=0.4399. device=mps:0. avg epoch time=0.003489\n",
      "   78000/  200000: loss=0.4995. device=mps:0. avg epoch time=0.003490\n",
      "   79000/  200000: loss=0.4640. device=mps:0. avg epoch time=0.003490\n",
      "   80000/  200000: loss=0.5264. device=mps:0. avg epoch time=0.003491\n",
      "   81000/  200000: loss=0.4420. device=mps:0. avg epoch time=0.003492\n",
      "   82000/  200000: loss=0.5789. device=mps:0. avg epoch time=0.003493\n",
      "   83000/  200000: loss=0.5194. device=mps:0. avg epoch time=0.003492\n",
      "   84000/  200000: loss=0.4522. device=mps:0. avg epoch time=0.003492\n",
      "   85000/  200000: loss=0.4823. device=mps:0. avg epoch time=0.003493\n",
      "   86000/  200000: loss=0.5478. device=mps:0. avg epoch time=0.003494\n",
      "   87000/  200000: loss=0.5299. device=mps:0. avg epoch time=0.003495\n",
      "   88000/  200000: loss=0.4638. device=mps:0. avg epoch time=0.003495\n",
      "   89000/  200000: loss=0.5292. device=mps:0. avg epoch time=0.003495\n",
      "   90000/  200000: loss=0.5186. device=mps:0. avg epoch time=0.003495\n",
      "   91000/  200000: loss=0.4782. device=mps:0. avg epoch time=0.003495\n",
      "   92000/  200000: loss=0.4958. device=mps:0. avg epoch time=0.003496\n",
      "   93000/  200000: loss=0.4788. device=mps:0. avg epoch time=0.003497\n",
      "   94000/  200000: loss=0.4490. device=mps:0. avg epoch time=0.003498\n",
      "   95000/  200000: loss=0.5008. device=mps:0. avg epoch time=0.003499\n",
      "   96000/  200000: loss=0.4432. device=mps:0. avg epoch time=0.003499\n",
      "   97000/  200000: loss=0.5236. device=mps:0. avg epoch time=0.003500\n",
      "   98000/  200000: loss=0.4785. device=mps:0. avg epoch time=0.003500\n",
      "   99000/  200000: loss=0.4694. device=mps:0. avg epoch time=0.003500\n",
      "  100000/  200000: loss=0.4149. device=mps:0. avg epoch time=0.003501\n",
      "  101000/  200000: loss=0.4670. device=mps:0. avg epoch time=0.003503\n",
      "  102000/  200000: loss=0.4961. device=mps:0. avg epoch time=0.003505\n",
      "  103000/  200000: loss=0.5809. device=mps:0. avg epoch time=0.003504\n",
      "  104000/  200000: loss=0.4262. device=mps:0. avg epoch time=0.003503\n",
      "  105000/  200000: loss=0.4619. device=mps:0. avg epoch time=0.003503\n",
      "  106000/  200000: loss=0.4677. device=mps:0. avg epoch time=0.003502\n",
      "  107000/  200000: loss=0.4558. device=mps:0. avg epoch time=0.003503\n",
      "  108000/  200000: loss=0.4446. device=mps:0. avg epoch time=0.003504\n",
      "  109000/  200000: loss=0.4030. device=mps:0. avg epoch time=0.003507\n",
      "  110000/  200000: loss=0.4610. device=mps:0. avg epoch time=0.003509\n",
      "  111000/  200000: loss=0.4940. device=mps:0. avg epoch time=0.003510\n",
      "  112000/  200000: loss=0.4626. device=mps:0. avg epoch time=0.003509\n",
      "  113000/  200000: loss=0.5664. device=mps:0. avg epoch time=0.003507\n",
      "  114000/  200000: loss=0.4897. device=mps:0. avg epoch time=0.003509\n",
      "  115000/  200000: loss=0.4474. device=mps:0. avg epoch time=0.003508\n",
      "  116000/  200000: loss=0.4848. device=mps:0. avg epoch time=0.003507\n",
      "  117000/  200000: loss=0.5410. device=mps:0. avg epoch time=0.003506\n",
      "  118000/  200000: loss=0.4698. device=mps:0. avg epoch time=0.003504\n",
      "  119000/  200000: loss=0.4880. device=mps:0. avg epoch time=0.003502\n",
      "  120000/  200000: loss=0.3803. device=mps:0. avg epoch time=0.003499\n",
      "  121000/  200000: loss=0.4347. device=mps:0. avg epoch time=0.003497\n",
      "  122000/  200000: loss=0.4752. device=mps:0. avg epoch time=0.003495\n",
      "  123000/  200000: loss=0.4357. device=mps:0. avg epoch time=0.003494\n",
      "  124000/  200000: loss=0.5070. device=mps:0. avg epoch time=0.003492\n",
      "  125000/  200000: loss=0.4453. device=mps:0. avg epoch time=0.003490\n",
      "  126000/  200000: loss=0.4952. device=mps:0. avg epoch time=0.003488\n",
      "  127000/  200000: loss=0.4639. device=mps:0. avg epoch time=0.003487\n",
      "  128000/  200000: loss=0.4642. device=mps:0. avg epoch time=0.003485\n",
      "  129000/  200000: loss=0.4532. device=mps:0. avg epoch time=0.003483\n",
      "  130000/  200000: loss=0.4773. device=mps:0. avg epoch time=0.003481\n",
      "  131000/  200000: loss=0.4895. device=mps:0. avg epoch time=0.003479\n",
      "  132000/  200000: loss=0.5452. device=mps:0. avg epoch time=0.003478\n",
      "  133000/  200000: loss=0.4003. device=mps:0. avg epoch time=0.003476\n",
      "  134000/  200000: loss=0.5099. device=mps:0. avg epoch time=0.003476\n",
      "  135000/  200000: loss=0.4070. device=mps:0. avg epoch time=0.003474\n",
      "  136000/  200000: loss=0.4674. device=mps:0. avg epoch time=0.003473\n",
      "  137000/  200000: loss=0.4986. device=mps:0. avg epoch time=0.003471\n",
      "  138000/  200000: loss=0.4773. device=mps:0. avg epoch time=0.003470\n",
      "  139000/  200000: loss=0.4614. device=mps:0. avg epoch time=0.003468\n",
      "  140000/  200000: loss=0.4937. device=mps:0. avg epoch time=0.003467\n",
      "  141000/  200000: loss=0.4973. device=mps:0. avg epoch time=0.003465\n",
      "  142000/  200000: loss=0.4524. device=mps:0. avg epoch time=0.003464\n",
      "  143000/  200000: loss=0.4529. device=mps:0. avg epoch time=0.003462\n",
      "  144000/  200000: loss=0.4688. device=mps:0. avg epoch time=0.003461\n",
      "  145000/  200000: loss=0.4288. device=mps:0. avg epoch time=0.003460\n",
      "  146000/  200000: loss=0.4246. device=mps:0. avg epoch time=0.003459\n",
      "  147000/  200000: loss=0.4866. device=mps:0. avg epoch time=0.003457\n",
      "  148000/  200000: loss=0.5494. device=mps:0. avg epoch time=0.003456\n",
      "  149000/  200000: loss=0.4746. device=mps:0. avg epoch time=0.003455\n",
      "  150000/  200000: loss=0.4921. device=mps:0. avg epoch time=0.003454\n",
      "  151000/  200000: loss=0.3590. device=mps:0. avg epoch time=0.003452\n",
      "  152000/  200000: loss=0.3932. device=mps:0. avg epoch time=0.003451\n",
      "  153000/  200000: loss=0.4830. device=mps:0. avg epoch time=0.003450\n",
      "  154000/  200000: loss=0.4889. device=mps:0. avg epoch time=0.003449\n",
      "  155000/  200000: loss=0.4723. device=mps:0. avg epoch time=0.003448\n",
      "  156000/  200000: loss=0.5112. device=mps:0. avg epoch time=0.003446\n",
      "  157000/  200000: loss=0.5080. device=mps:0. avg epoch time=0.003445\n",
      "  158000/  200000: loss=0.4490. device=mps:0. avg epoch time=0.003444\n",
      "  159000/  200000: loss=0.4486. device=mps:0. avg epoch time=0.003443\n",
      "  160000/  200000: loss=0.4297. device=mps:0. avg epoch time=0.003442\n",
      "  161000/  200000: loss=0.4619. device=mps:0. avg epoch time=0.003441\n",
      "  162000/  200000: loss=0.4652. device=mps:0. avg epoch time=0.003440\n",
      "  163000/  200000: loss=0.5168. device=mps:0. avg epoch time=0.003438\n",
      "  164000/  200000: loss=0.5047. device=mps:0. avg epoch time=0.003437\n",
      "  165000/  200000: loss=0.4111. device=mps:0. avg epoch time=0.003437\n",
      "  166000/  200000: loss=0.5038. device=mps:0. avg epoch time=0.003436\n",
      "  167000/  200000: loss=0.4392. device=mps:0. avg epoch time=0.003435\n",
      "  168000/  200000: loss=0.4561. device=mps:0. avg epoch time=0.003434\n",
      "  169000/  200000: loss=0.4615. device=mps:0. avg epoch time=0.003433\n",
      "  170000/  200000: loss=0.4844. device=mps:0. avg epoch time=0.003432\n",
      "  171000/  200000: loss=0.5419. device=mps:0. avg epoch time=0.003431\n",
      "  172000/  200000: loss=0.4607. device=mps:0. avg epoch time=0.003430\n",
      "  173000/  200000: loss=0.4046. device=mps:0. avg epoch time=0.003429\n",
      "  174000/  200000: loss=0.3797. device=mps:0. avg epoch time=0.003428\n",
      "  175000/  200000: loss=0.4885. device=mps:0. avg epoch time=0.003427\n",
      "  176000/  200000: loss=0.4162. device=mps:0. avg epoch time=0.003426\n",
      "  177000/  200000: loss=0.5051. device=mps:0. avg epoch time=0.003425\n",
      "  178000/  200000: loss=0.4597. device=mps:0. avg epoch time=0.003424\n",
      "  179000/  200000: loss=0.5131. device=mps:0. avg epoch time=0.003424\n",
      "  180000/  200000: loss=0.3982. device=mps:0. avg epoch time=0.003423\n",
      "  181000/  200000: loss=0.4428. device=mps:0. avg epoch time=0.003422\n",
      "  182000/  200000: loss=0.4105. device=mps:0. avg epoch time=0.003421\n",
      "  183000/  200000: loss=0.4688. device=mps:0. avg epoch time=0.003420\n",
      "  184000/  200000: loss=0.3906. device=mps:0. avg epoch time=0.003419\n",
      "  185000/  200000: loss=0.4710. device=mps:0. avg epoch time=0.003419\n",
      "  186000/  200000: loss=0.5244. device=mps:0. avg epoch time=0.003418\n",
      "  187000/  200000: loss=0.4911. device=mps:0. avg epoch time=0.003417\n",
      "  188000/  200000: loss=0.4504. device=mps:0. avg epoch time=0.003416\n",
      "  189000/  200000: loss=0.4682. device=mps:0. avg epoch time=0.003419\n",
      "  190000/  200000: loss=0.4482. device=mps:0. avg epoch time=0.003421\n",
      "  191000/  200000: loss=0.4820. device=mps:0. avg epoch time=0.003426\n",
      "  192000/  200000: loss=0.4578. device=mps:0. avg epoch time=0.003428\n",
      "  193000/  200000: loss=0.4531. device=mps:0. avg epoch time=0.003431\n",
      "  194000/  200000: loss=0.5221. device=mps:0. avg epoch time=0.003435\n",
      "  195000/  200000: loss=0.4870. device=mps:0. avg epoch time=0.003439\n",
      "  196000/  200000: loss=0.4464. device=mps:0. avg epoch time=0.003442\n",
      "  197000/  200000: loss=0.4472. device=mps:0. avg epoch time=0.003442\n",
      "  198000/  200000: loss=0.4711. device=mps:0. avg epoch time=0.003442\n",
      "  199000/  200000: loss=0.4593. device=mps:0. avg epoch time=0.003442\n",
      "train loss = 0.4773\n",
      "val loss = 0.9161\n",
      "on device mps:0, avg epoch time was 0.003441\n"
     ]
    }
   ],
   "source": [
    "# train loop\n",
    "epochs = 2_000\n",
    "\n",
    "losses = []\n",
    "times = []\n",
    "\n",
    "lr = 0.1\n",
    "network = SingleLayer()\n",
    "network.to(device)\n",
    "\n",
    "sgd = SGD(network.parameters(), lr=0.1)\n",
    "\n",
    "last_time = time.time()\n",
    "\n",
    "for i in range(epochs):\n",
    "    # build minibatch\n",
    "    last_time = time.time()\n",
    "\n",
    "    # empirically:\n",
    "    # BS ~=  32 --> 4ms/epoch @ MPS,  1ms/epoch @ CPU\n",
    "    # BS ~= 512 --> 4ms/epoch @ MPS,  5ms/epoch @ CPU\n",
    "    # BS ~= 768 --> 5ms/epoch @ MPS, 10ms/epoch @ CPU\n",
    "    # need to profile this more w/ torch.mps to see what\n",
    "    # cache line we are saturating\n",
    "    batch_size = 512\n",
    "    idxs = torch.randint(0, i1, (batch_size,))\n",
    "    Xb = Xtr[idxs]\n",
    "    Yb = Ytr[idxs]\n",
    "\n",
    "    # forward pass\n",
    "    Yhat = network.forward(Xb)\n",
    "    loss = F.cross_entropy(Yhat, Yb)\n",
    "    losses.append(loss)\n",
    "\n",
    "    # backward pass\n",
    "    network.zero_grad()\n",
    "    loss.backward()\n",
    "    # sgd.step()\n",
    "\n",
    "    Dt = time.time() - last_time\n",
    "    times.append(Dt)\n",
    "\n",
    "    # update\n",
    "    with torch.no_grad():\n",
    "        for _, p in enumerate(network.parameters()):\n",
    "            # print(p.grad)\n",
    "            # grads.setdefault(i, []).append(p.grad.tolist())\n",
    "            p.data = p.data - p.grad*lr \n",
    "    \n",
    "    # stats\n",
    "    if i % 1_000 == 0:\n",
    "        print(f\"{i:8d}/{epochs:8d}: loss={loss:.4f}. device={Xb.device}. avg epoch time={np.mean(np.array(times)):.6f}\")        \n",
    "    \n",
    "calc_loss(\"train\")\n",
    "calc_loss(\"val\")\n",
    "print(f\"on device {Xb.device}, avg epoch time was {np.mean(np.array(times)):.6f}\")\n"
   ]
  },
  {
   "cell_type": "code",
   "execution_count": null,
   "id": "d1313709-b868-48a1-b1e4-b1953a701e69",
   "metadata": {},
   "outputs": [],
   "source": []
  },
  {
   "cell_type": "code",
   "execution_count": 1,
   "id": "d0a72dc5-6922-45a0-87a6-326c617b7a86",
   "metadata": {},
   "outputs": [
    {
     "ename": "NameError",
     "evalue": "name 'plt' is not defined",
     "output_type": "error",
     "traceback": [
      "\u001b[0;31m---------------------------------------------------------------------------\u001b[0m",
      "\u001b[0;31mNameError\u001b[0m                                 Traceback (most recent call last)",
      "Cell \u001b[0;32mIn[1], line 1\u001b[0m\n\u001b[0;32m----> 1\u001b[0m \u001b[43mplt\u001b[49m\u001b[38;5;241m.\u001b[39mplot(torch\u001b[38;5;241m.\u001b[39mtensor(losses));\n",
      "\u001b[0;31mNameError\u001b[0m: name 'plt' is not defined"
     ]
    }
   ],
   "source": [
    "plt.plot(torch.tensor(losses));"
   ]
  },
  {
   "cell_type": "code",
   "execution_count": 51,
   "id": "4651f292-0b2a-4bcc-8e77-a65eaee5dc60",
   "metadata": {},
   "outputs": [
    {
     "data": {
      "image/png": "[encoded data removed]",
      "text/plain": [
       "<Figure size 640x480 with 4 Axes>"
      ]
     },
     "metadata": {},
     "output_type": "display_data"
    }
   ],
   "source": [
    "idx = torch.randint(0, Xte.shape[0], (4,))\n",
    "Xs, Ys = Xte[idx], Yte[idx]\n",
    "Yhat = torch.argmax(network.forward(Xs), dim=1)\n",
    "for i, X in enumerate(Xs):\n",
    "    plt.subplot(2, 2, i+1)\n",
    "    plt.subplots_adjust(top=1.5)\n",
    "    plt.imshow(X.view(8, 8).cpu(), cmap='gray')\n",
    "    ystar = torch.argmax(Ys[i])\n",
    "    yhat = Yhat[i]\n",
    "    plt.title(f\"pred={yhat}, actual={ystar}\")"
   ]
  }
 ],
 "metadata": {
  "kernelspec": {
   "display_name": "Python 3 (ipykernel)",
   "language": "python",
   "name": "python3"
  },
  "language_info": {
   "codemirror_mode": {
    "name": "ipython",
    "version": 3
   },
   "file_extension": ".py",
   "mimetype": "text/x-python",
   "name": "python",
   "nbconvert_exporter": "python",
   "pygments_lexer": "ipython3",
   "version": "3.12.4"
  }
 },
 "nbformat": 4,
 "nbformat_minor": 5
}
