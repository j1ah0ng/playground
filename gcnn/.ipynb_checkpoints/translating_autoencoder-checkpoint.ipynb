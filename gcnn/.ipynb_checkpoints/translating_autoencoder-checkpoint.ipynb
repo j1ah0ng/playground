{
 "cells": [
  {
   "cell_type": "markdown",
   "id": "dda2288e-9c1a-4f6d-9663-b1ff3f253574",
   "metadata": {},
   "source": [
    "# attempt to reproduce the GCNN paper"
   ]
  },
  {
   "cell_type": "markdown",
   "id": "f8b0665a-b787-4a31-9449-424a788e4001",
   "metadata": {},
   "source": [
    "do a stupid CNN implementation on mnist first"
   ]
  },
  {
   "cell_type": "markdown",
   "id": "d9db2e2e-9d1a-4c01-b1e6-efd01ef8f242",
   "metadata": {},
   "source": [
    "## load the digits dataset"
   ]
  },
  {
   "cell_type": "code",
   "execution_count": 1,
   "id": "19837194-9a83-4989-8415-0a675ff3aa56",
   "metadata": {},
   "outputs": [],
   "source": [
    "import torch\n",
    "import torch.nn.functional as F\n",
    "from sklearn.datasets import load_digits\n",
    "import matplotlib.pyplot as plt\n",
    "import torch.nn as nn\n",
    "\n",
    "from torch.optim import SGD\n",
    "from sklearn.datasets import fetch_openml\n",
    "import numpy as np\n",
    "\n",
    "import time"
   ]
  },
  {
   "cell_type": "code",
   "execution_count": 2,
   "id": "21cfc15c-07e5-4d4b-8c81-29376136f34e",
   "metadata": {},
   "outputs": [],
   "source": [
    "device = torch.device(\"mps\")"
   ]
  },
  {
   "cell_type": "code",
   "execution_count": 3,
   "id": "c669d891-6313-4fce-bcfe-1e371005287a",
   "metadata": {},
   "outputs": [],
   "source": [
    "ds = load_digits()\n",
    "digits = torch.tensor(ds.data)"
   ]
  },
  {
   "cell_type": "code",
   "execution_count": 4,
   "id": "f6ca132b-6211-4470-a97d-f1e04f386ea2",
   "metadata": {},
   "outputs": [
    {
     "data": {
      "text/plain": [
       "<matplotlib.image.AxesImage at 0x14819a390>"
      ]
     },
     "execution_count": 4,
     "metadata": {},
     "output_type": "execute_result"
    },
    {
     "data": {
      "image/png": "[encoded data removed]",
      "text/plain": [
       "<Figure size 100x100 with 1 Axes>"
      ]
     },
     "metadata": {},
     "output_type": "display_data"
    }
   ],
   "source": [
    "plt.figure(figsize=(1,1))\n",
    "plt.imshow(digits.view(-1, 8, 8)[0], cmap='gray')"
   ]
  },
  {
   "cell_type": "code",
   "execution_count": 8,
   "id": "0915f609-080b-46b8-91c3-314cec4ea8e9",
   "metadata": {},
   "outputs": [
    {
     "data": {
      "text/plain": [
       "torch.Size([14, 14])"
      ]
     },
     "execution_count": 8,
     "metadata": {},
     "output_type": "execute_result"
    }
   ],
   "source": [
    "padded = F.pad(digits.view(-1, 8, 8)[0], (3, 3, 3, 3))\n",
    "padded.shape"
   ]
  },
  {
   "cell_type": "code",
   "execution_count": 9,
   "id": "82be4090-ccb0-4466-9e77-f36de16c556e",
   "metadata": {},
   "outputs": [
    {
     "data": {
      "text/plain": [
       "torch.Size([8, 8])"
      ]
     },
     "execution_count": 9,
     "metadata": {},
     "output_type": "execute_result"
    }
   ],
   "source": [
    "digits.view(-1, 8, 8)[0].shape"
   ]
  },
  {
   "cell_type": "code",
   "execution_count": null,
   "id": "fcfbc0b0-e515-4ba9-af6d-7f38d23f3bc9",
   "metadata": {},
   "outputs": [],
   "source": []
  },
  {
   "cell_type": "code",
   "execution_count": 5,
   "id": "582566d3-9f3f-4cc3-afb1-3b0fb7a93bda",
   "metadata": {},
   "outputs": [
    {
     "data": {
      "text/plain": [
       "0"
      ]
     },
     "execution_count": 5,
     "metadata": {},
     "output_type": "execute_result"
    }
   ],
   "source": [
    "ds.target[0].item()"
   ]
  },
  {
   "cell_type": "code",
   "execution_count": 6,
   "id": "e02857c6-db02-481f-b8ba-799611c0c759",
   "metadata": {},
   "outputs": [
    {
     "data": {
      "text/plain": [
       "torch.Size([1797, 64])"
      ]
     },
     "execution_count": 6,
     "metadata": {},
     "output_type": "execute_result"
    }
   ],
   "source": [
    "# hooray reshape it \n",
    "Xs = digits #.view(-1, 8, 8)\n",
    "Xs.shape"
   ]
  },
  {
   "cell_type": "code",
   "execution_count": 7,
   "id": "c8d96872-a74f-45b6-b015-dd944deb979c",
   "metadata": {},
   "outputs": [],
   "source": [
    "# one-hot the output\n",
    "Ycl = torch.tensor(ds.target)\n",
    "n_classes = Ycl.unique().shape[0]\n",
    "Ys = F.one_hot(Ycl, n_classes)"
   ]
  },
  {
   "cell_type": "markdown",
   "id": "7fa2b8b8-68fd-44ae-af42-8eb48d619b1a",
   "metadata": {},
   "source": [
    "## tts"
   ]
  },
  {
   "cell_type": "code",
   "execution_count": 8,
   "id": "4459a95a-b3e5-450f-826e-c7981cf14c27",
   "metadata": {},
   "outputs": [],
   "source": [
    "# cast\n",
    "Xs = Xs.float() / 16.0\n",
    "Ys = Ys.float()"
   ]
  },
  {
   "cell_type": "code",
   "execution_count": 9,
   "id": "c90f9103-6220-4df9-96d6-d067a5292ecb",
   "metadata": {},
   "outputs": [],
   "source": [
    "N = Ys.shape[0]\n",
    "\n",
    "i1 = int(0.8 * N)\n",
    "i2 = int(0.9 * N)\n",
    "\n",
    "Xtr, Ytr = Xs[:i1].to(device), Ys[:i1].to(device)\n",
    "Xdv, Ydv = Xs[i1:i2].to(device), Ys[i1:i2].to(device)\n",
    "Xte, Yte = Xs[i2:].to(device), Ys[i2:].to(device)"
   ]
  },
  {
   "cell_type": "code",
   "execution_count": 10,
   "id": "7fcb04b1-0ca9-41c8-a835-77fdb7e7ff5e",
   "metadata": {},
   "outputs": [],
   "source": [
    "def calc_loss(split: str):\n",
    "    Xs, Ys = {\n",
    "        \"train\": (Xtr, Ytr),\n",
    "        \"val\":   (Xdv, Ydv),\n",
    "        \"test\":  (Xte, Yte),\n",
    "    }[split]\n",
    "    with torch.no_grad():\n",
    "        Yhat = network.forward(Xs)\n",
    "        loss = F.cross_entropy(Yhat, Ys)\n",
    "        print(f\"{split} loss = {loss.item():.4f}\")"
   ]
  },
  {
   "cell_type": "markdown",
   "id": "7fd33abe-8e11-43be-b5f5-4ad14363162b",
   "metadata": {},
   "source": [
    "## stupid cnn architecture"
   ]
  },
  {
   "cell_type": "code",
   "execution_count": 11,
   "id": "c20ab90a-417f-4538-8cc3-68a6a2c1579a",
   "metadata": {},
   "outputs": [
    {
     "data": {
      "text/plain": [
       "tensor(2.3026)"
      ]
     },
     "execution_count": 11,
     "metadata": {},
     "output_type": "execute_result"
    }
   ],
   "source": [
    "# what is the expected loss, assuming equally-likely outputs?\n",
    "stupid_logits = torch.tensor([0.0] * 10)\n",
    "stupid_logits[0] = 0.0\n",
    "stupid_counts = stupid_logits.exp()\n",
    "stupid_probs = stupid_counts / stupid_counts.sum(0, keepdim=True)\n",
    "\n",
    "# neg log likelihood\n",
    "-stupid_probs[0].log()"
   ]
  },
  {
   "cell_type": "code",
   "execution_count": 12,
   "id": "738cb7bf-bcdc-4cb0-80c5-50ff4367d23b",
   "metadata": {},
   "outputs": [],
   "source": [
    "G  = torch.Generator().manual_seed(2147483647)\n",
    "\n",
    "class SingleLayer(nn.Module):\n",
    "    def __init__(self):\n",
    "\n",
    "        super().__init__()\n",
    "        \n",
    "        self.im_sidelen: int   = 8\n",
    "        self.input_dim: int    = self.im_sidelen**2\n",
    "        self.output_dim: int   = n_classes\n",
    "        \n",
    "        self.kernel_size: int  = 5\n",
    "        self.padding: int      = 2\n",
    "\n",
    "        self.kernel_size2: int = 3\n",
    "        self.padding2: int     = 1\n",
    "\n",
    "        # (n, 8, 8) -> (n, 2, 8, 8)\n",
    "        self.conv1 = nn.Conv2d(1, 2, kernel_size=self.kernel_size, padding=self.padding)\n",
    "\n",
    "        # (n, 2, 8, 8) -> (n, 2, 8, 8)\n",
    "        self.bn1 = nn.BatchNorm2d(2)\n",
    "        \n",
    "        # (n, 2, 8, 8) -> (n, 2, 4, 4)\n",
    "        self.pool1 = nn.MaxPool2d(2)\n",
    "\n",
    "        # (n, 2, 4, 4) -> (n, 4, 4, 4)\n",
    "        self.conv2 = nn.Conv2d(2, 4, kernel_size=self.kernel_size2, padding=self.padding2)\n",
    "\n",
    "        # (n, 4, 4, 4) -> (n, 4, 4, 4)\n",
    "        self.bn2 = nn.BatchNorm2d(4)\n",
    "\n",
    "        # (n, 4, 4, 4) -> (n, 4, 2, 2)\n",
    "        self.pool2 = nn.MaxPool2d(2)\n",
    "        \n",
    "        # (n, 4, 4, 4) -> (n, 16) -> (n, 16)\n",
    "        self.W1 = nn.Linear(16, 10)\n",
    "\n",
    "        self.layers = [\n",
    "            self.conv1, self.bn1, self.pool1,\n",
    "            self.conv2, self.bn2, self.pool2,\n",
    "            self.W1\n",
    "        ]\n",
    "        \n",
    "        # \"principled\" initializations\n",
    "        g = nn.init.calculate_gain(\"relu\")\n",
    "        nn.init.xavier_uniform_(self.W1.weight, gain=g, generator=G)\n",
    "        nn.init.uniform_(self.bn1.weight, generator=G)\n",
    "        nn.init.uniform_(self.bn2.weight, generator=G)\n",
    "        nn.init.zeros_(self.bn1.bias)\n",
    "        nn.init.zeros_(self.bn2.bias)\n",
    "        \n",
    "        # nn.init.xavier_uniform_(self.W2.weight, gain=g, generator=G)\n",
    "\n",
    "    def forward(self, x):\n",
    "        pool1 = self.conv1(x.view(-1, 1, self.im_sidelen, self.im_sidelen))\n",
    "        pool1 = self.pool1(pool1)\n",
    "        pool1 = self.bn1(pool1)              \n",
    "        pool1 = F.relu(pool1)\n",
    "\n",
    "        pool1 = F.dropout(pool1, p=0.2)\n",
    "        \n",
    "        pool2 = self.conv2(pool1)\n",
    "        pool2 = self.pool2(pool2)\n",
    "        pool2 = self.bn2(pool2)        \n",
    "        pool2 = F.relu(pool2)\n",
    "\n",
    "        pool2 = F.dropout(pool2, p=0.2)\n",
    "        \n",
    "        h1 = F.relu(self.W1(pool2.view(-1, 16)))\n",
    "\n",
    "        return h1       \n",
    "\n",
    "    def zero_grad(self):\n",
    "        for p in self.parameters():\n",
    "            p.grad = None\n",
    "\n"
   ]
  },
  {
   "cell_type": "code",
   "execution_count": 13,
   "id": "6cf69c8f-0942-425d-bbd1-7103757377cb",
   "metadata": {},
   "outputs": [
    {
     "data": {
      "text/plain": [
       "1797"
      ]
     },
     "execution_count": 13,
     "metadata": {},
     "output_type": "execute_result"
    }
   ],
   "source": [
    "N"
   ]
  },
  {
   "cell_type": "code",
   "execution_count": 14,
   "id": "2e124021-2ffb-4d35-bd2b-45bca470cee8",
   "metadata": {},
   "outputs": [
    {
     "name": "stdout",
     "output_type": "stream",
     "text": [
      "       0/  200000: loss=2.5596. device=mps:0. avg epoch time=0.143074\n",
      "    1000/  200000: loss=0.6971. device=mps:0. avg epoch time=0.003639\n",
      "    2000/  200000: loss=0.6092. device=mps:0. avg epoch time=0.003520\n",
      "    3000/  200000: loss=0.6056. device=mps:0. avg epoch time=0.003494\n",
      "    4000/  200000: loss=0.6102. device=mps:0. avg epoch time=0.003493\n",
      "    5000/  200000: loss=0.5551. device=mps:0. avg epoch time=0.003493\n",
      "    6000/  200000: loss=0.5456. device=mps:0. avg epoch time=0.003483\n",
      "    7000/  200000: loss=0.5297. device=mps:0. avg epoch time=0.003479\n",
      "    8000/  200000: loss=0.5164. device=mps:0. avg epoch time=0.003471\n",
      "    9000/  200000: loss=0.4632. device=mps:0. avg epoch time=0.003464\n",
      "   10000/  200000: loss=0.4692. device=mps:0. avg epoch time=0.003470\n",
      "   11000/  200000: loss=0.5171. device=mps:0. avg epoch time=0.003466\n",
      "   12000/  200000: loss=0.4896. device=mps:0. avg epoch time=0.003462\n",
      "   13000/  200000: loss=0.5022. device=mps:0. avg epoch time=0.003461\n",
      "   14000/  200000: loss=0.4732. device=mps:0. avg epoch time=0.003458\n",
      "   15000/  200000: loss=0.5230. device=mps:0. avg epoch time=0.003458\n",
      "   16000/  200000: loss=0.4477. device=mps:0. avg epoch time=0.003455\n",
      "   17000/  200000: loss=0.4413. device=mps:0. avg epoch time=0.003453\n",
      "   18000/  200000: loss=0.4921. device=mps:0. avg epoch time=0.003453\n",
      "   19000/  200000: loss=0.5138. device=mps:0. avg epoch time=0.003451\n",
      "   20000/  200000: loss=0.4666. device=mps:0. avg epoch time=0.003450\n",
      "   21000/  200000: loss=0.5354. device=mps:0. avg epoch time=0.003449\n",
      "   22000/  200000: loss=0.4809. device=mps:0. avg epoch time=0.003449\n",
      "   23000/  200000: loss=0.4650. device=mps:0. avg epoch time=0.003451\n",
      "   24000/  200000: loss=0.5175. device=mps:0. avg epoch time=0.003449\n",
      "   25000/  200000: loss=0.4527. device=mps:0. avg epoch time=0.003448\n",
      "   26000/  200000: loss=0.4610. device=mps:0. avg epoch time=0.003452\n",
      "   27000/  200000: loss=0.4661. device=mps:0. avg epoch time=0.003455\n",
      "   28000/  200000: loss=0.4620. device=mps:0. avg epoch time=0.003456\n",
      "   29000/  200000: loss=0.4828. device=mps:0. avg epoch time=0.003456\n",
      "   30000/  200000: loss=0.4787. device=mps:0. avg epoch time=0.003456\n",
      "   31000/  200000: loss=0.4877. device=mps:0. avg epoch time=0.003459\n",
      "   32000/  200000: loss=0.5078. device=mps:0. avg epoch time=0.003459\n",
      "   33000/  200000: loss=0.4769. device=mps:0. avg epoch time=0.003458\n",
      "   34000/  200000: loss=0.4253. device=mps:0. avg epoch time=0.003457\n",
      "   35000/  200000: loss=0.5123. device=mps:0. avg epoch time=0.003457\n",
      "   36000/  200000: loss=0.4316. device=mps:0. avg epoch time=0.003456\n",
      "   37000/  200000: loss=0.4596. device=mps:0. avg epoch time=0.003455\n",
      "   38000/  200000: loss=0.4595. device=mps:0. avg epoch time=0.003455\n",
      "   39000/  200000: loss=0.4636. device=mps:0. avg epoch time=0.003453\n",
      "   40000/  200000: loss=0.4060. device=mps:0. avg epoch time=0.003452\n",
      "   41000/  200000: loss=0.4928. device=mps:0. avg epoch time=0.003451\n",
      "   42000/  200000: loss=0.4931. device=mps:0. avg epoch time=0.003450\n",
      "   43000/  200000: loss=0.4736. device=mps:0. avg epoch time=0.003449\n",
      "   44000/  200000: loss=0.4795. device=mps:0. avg epoch time=0.003448\n",
      "   45000/  200000: loss=0.4530. device=mps:0. avg epoch time=0.003448\n",
      "   46000/  200000: loss=0.4859. device=mps:0. avg epoch time=0.003446\n",
      "   47000/  200000: loss=0.4695. device=mps:0. avg epoch time=0.003446\n",
      "   48000/  200000: loss=0.4831. device=mps:0. avg epoch time=0.003445\n",
      "   49000/  200000: loss=0.4502. device=mps:0. avg epoch time=0.003444\n",
      "   50000/  200000: loss=0.4293. device=mps:0. avg epoch time=0.003443\n",
      "   51000/  200000: loss=0.4762. device=mps:0. avg epoch time=0.003443\n",
      "   52000/  200000: loss=0.4115. device=mps:0. avg epoch time=0.003443\n",
      "   53000/  200000: loss=0.4480. device=mps:0. avg epoch time=0.003443\n",
      "   54000/  200000: loss=0.4150. device=mps:0. avg epoch time=0.003443\n",
      "   55000/  200000: loss=0.4311. device=mps:0. avg epoch time=0.003442\n",
      "   56000/  200000: loss=0.5044. device=mps:0. avg epoch time=0.003441\n",
      "   57000/  200000: loss=0.4945. device=mps:0. avg epoch time=0.003441\n",
      "   58000/  200000: loss=0.4542. device=mps:0. avg epoch time=0.003442\n",
      "   59000/  200000: loss=0.4719. device=mps:0. avg epoch time=0.003444\n",
      "   60000/  200000: loss=0.4741. device=mps:0. avg epoch time=0.003444\n",
      "   61000/  200000: loss=0.5526. device=mps:0. avg epoch time=0.003447\n",
      "   62000/  200000: loss=0.4845. device=mps:0. avg epoch time=0.003455\n",
      "   63000/  200000: loss=0.5191. device=mps:0. avg epoch time=0.003462\n",
      "   64000/  200000: loss=0.5357. device=mps:0. avg epoch time=0.003467\n",
      "   65000/  200000: loss=0.5014. device=mps:0. avg epoch time=0.003473\n",
      "   66000/  200000: loss=0.4466. device=mps:0. avg epoch time=0.003479\n",
      "   67000/  200000: loss=0.4382. device=mps:0. avg epoch time=0.003484\n",
      "   68000/  200000: loss=0.4803. device=mps:0. avg epoch time=0.003489\n",
      "   69000/  200000: loss=0.5044. device=mps:0. avg epoch time=0.003494\n",
      "   70000/  200000: loss=0.4529. device=mps:0. avg epoch time=0.003501\n",
      "   71000/  200000: loss=0.4692. device=mps:0. avg epoch time=0.003506\n",
      "   72000/  200000: loss=0.4492. device=mps:0. avg epoch time=0.003512\n",
      "   73000/  200000: loss=0.4875. device=mps:0. avg epoch time=0.003517\n",
      "   74000/  200000: loss=0.4862. device=mps:0. avg epoch time=0.003522\n",
      "   75000/  200000: loss=0.4500. device=mps:0. avg epoch time=0.003525\n",
      "   76000/  200000: loss=0.4579. device=mps:0. avg epoch time=0.003530\n",
      "   77000/  200000: loss=0.4439. device=mps:0. avg epoch time=0.003535\n",
      "   78000/  200000: loss=0.4616. device=mps:0. avg epoch time=0.003540\n",
      "   79000/  200000: loss=0.5222. device=mps:0. avg epoch time=0.003545\n",
      "   80000/  200000: loss=0.4588. device=mps:0. avg epoch time=0.003552\n",
      "   81000/  200000: loss=0.4543. device=mps:0. avg epoch time=0.003557\n",
      "   82000/  200000: loss=0.4731. device=mps:0. avg epoch time=0.003562\n",
      "   83000/  200000: loss=0.4513. device=mps:0. avg epoch time=0.003565\n",
      "   84000/  200000: loss=0.5494. device=mps:0. avg epoch time=0.003569\n",
      "   85000/  200000: loss=0.5089. device=mps:0. avg epoch time=0.003572\n",
      "   86000/  200000: loss=0.4314. device=mps:0. avg epoch time=0.003577\n",
      "   87000/  200000: loss=0.4894. device=mps:0. avg epoch time=0.003581\n",
      "   88000/  200000: loss=0.4172. device=mps:0. avg epoch time=0.003586\n",
      "   89000/  200000: loss=0.4848. device=mps:0. avg epoch time=0.003591\n",
      "   90000/  200000: loss=0.3941. device=mps:0. avg epoch time=0.003595\n",
      "   91000/  200000: loss=0.4691. device=mps:0. avg epoch time=0.003598\n",
      "   92000/  200000: loss=0.4094. device=mps:0. avg epoch time=0.003600\n",
      "   93000/  200000: loss=0.4996. device=mps:0. avg epoch time=0.003604\n",
      "   94000/  200000: loss=0.4800. device=mps:0. avg epoch time=0.003607\n",
      "   95000/  200000: loss=0.4575. device=mps:0. avg epoch time=0.003609\n",
      "   96000/  200000: loss=0.4778. device=mps:0. avg epoch time=0.003610\n",
      "   97000/  200000: loss=0.4975. device=mps:0. avg epoch time=0.003612\n",
      "   98000/  200000: loss=0.4414. device=mps:0. avg epoch time=0.003616\n",
      "   99000/  200000: loss=0.5020. device=mps:0. avg epoch time=0.003617\n",
      "  100000/  200000: loss=0.5157. device=mps:0. avg epoch time=0.003621\n",
      "  101000/  200000: loss=0.4299. device=mps:0. avg epoch time=0.003623\n",
      "  102000/  200000: loss=0.4391. device=mps:0. avg epoch time=0.003626\n",
      "  103000/  200000: loss=0.4564. device=mps:0. avg epoch time=0.003629\n",
      "  104000/  200000: loss=0.4973. device=mps:0. avg epoch time=0.003632\n",
      "  105000/  200000: loss=0.4125. device=mps:0. avg epoch time=0.003635\n",
      "  106000/  200000: loss=0.4751. device=mps:0. avg epoch time=0.003637\n",
      "  107000/  200000: loss=0.4894. device=mps:0. avg epoch time=0.003641\n",
      "  108000/  200000: loss=0.4407. device=mps:0. avg epoch time=0.003644\n",
      "  109000/  200000: loss=0.4427. device=mps:0. avg epoch time=0.003646\n",
      "  110000/  200000: loss=0.4242. device=mps:0. avg epoch time=0.003649\n",
      "  111000/  200000: loss=0.4427. device=mps:0. avg epoch time=0.003652\n",
      "  112000/  200000: loss=0.4847. device=mps:0. avg epoch time=0.003654\n",
      "  113000/  200000: loss=0.4180. device=mps:0. avg epoch time=0.003656\n",
      "  114000/  200000: loss=0.4334. device=mps:0. avg epoch time=0.003658\n",
      "  115000/  200000: loss=0.5017. device=mps:0. avg epoch time=0.003660\n",
      "  116000/  200000: loss=0.4923. device=mps:0. avg epoch time=0.003662\n",
      "  117000/  200000: loss=0.4796. device=mps:0. avg epoch time=0.003664\n",
      "  118000/  200000: loss=0.4870. device=mps:0. avg epoch time=0.003666\n",
      "  119000/  200000: loss=0.5115. device=mps:0. avg epoch time=0.003668\n",
      "  120000/  200000: loss=0.4401. device=mps:0. avg epoch time=0.003669\n",
      "  121000/  200000: loss=0.4887. device=mps:0. avg epoch time=0.003672\n",
      "  122000/  200000: loss=0.5070. device=mps:0. avg epoch time=0.003673\n",
      "  123000/  200000: loss=0.4872. device=mps:0. avg epoch time=0.003674\n",
      "  124000/  200000: loss=0.4944. device=mps:0. avg epoch time=0.003676\n",
      "  125000/  200000: loss=0.4436. device=mps:0. avg epoch time=0.003678\n",
      "  126000/  200000: loss=0.4809. device=mps:0. avg epoch time=0.003679\n",
      "  127000/  200000: loss=0.4514. device=mps:0. avg epoch time=0.003681\n",
      "  128000/  200000: loss=0.4594. device=mps:0. avg epoch time=0.003683\n",
      "  129000/  200000: loss=0.4516. device=mps:0. avg epoch time=0.003685\n",
      "  130000/  200000: loss=0.4802. device=mps:0. avg epoch time=0.003686\n",
      "  131000/  200000: loss=0.4884. device=mps:0. avg epoch time=0.003688\n",
      "  132000/  200000: loss=0.4293. device=mps:0. avg epoch time=0.003690\n",
      "  133000/  200000: loss=0.4991. device=mps:0. avg epoch time=0.003692\n",
      "  134000/  200000: loss=0.4976. device=mps:0. avg epoch time=0.003693\n",
      "  135000/  200000: loss=0.4533. device=mps:0. avg epoch time=0.003695\n",
      "  136000/  200000: loss=0.4750. device=mps:0. avg epoch time=0.003697\n",
      "  137000/  200000: loss=0.4805. device=mps:0. avg epoch time=0.003699\n",
      "  138000/  200000: loss=0.5387. device=mps:0. avg epoch time=0.003701\n",
      "  139000/  200000: loss=0.4589. device=mps:0. avg epoch time=0.003702\n",
      "  140000/  200000: loss=0.5130. device=mps:0. avg epoch time=0.003704\n",
      "  141000/  200000: loss=0.4926. device=mps:0. avg epoch time=0.003706\n",
      "  142000/  200000: loss=0.4308. device=mps:0. avg epoch time=0.003707\n",
      "  143000/  200000: loss=0.4213. device=mps:0. avg epoch time=0.003709\n",
      "  144000/  200000: loss=0.4676. device=mps:0. avg epoch time=0.003709\n",
      "  145000/  200000: loss=0.4951. device=mps:0. avg epoch time=0.003711\n",
      "  146000/  200000: loss=0.4725. device=mps:0. avg epoch time=0.003712\n",
      "  147000/  200000: loss=0.4778. device=mps:0. avg epoch time=0.003712\n",
      "  148000/  200000: loss=0.4374. device=mps:0. avg epoch time=0.003714\n",
      "  149000/  200000: loss=0.4817. device=mps:0. avg epoch time=0.003715\n",
      "  150000/  200000: loss=0.4903. device=mps:0. avg epoch time=0.003716\n",
      "  151000/  200000: loss=0.4178. device=mps:0. avg epoch time=0.003716\n",
      "  152000/  200000: loss=0.4373. device=mps:0. avg epoch time=0.003715\n",
      "  153000/  200000: loss=0.4733. device=mps:0. avg epoch time=0.003717\n",
      "  154000/  200000: loss=0.4059. device=mps:0. avg epoch time=0.003718\n",
      "  155000/  200000: loss=0.4275. device=mps:0. avg epoch time=0.003719\n",
      "  156000/  200000: loss=0.5184. device=mps:0. avg epoch time=0.003719\n",
      "  157000/  200000: loss=0.4905. device=mps:0. avg epoch time=0.003719\n",
      "  158000/  200000: loss=0.4697. device=mps:0. avg epoch time=0.003720\n",
      "  159000/  200000: loss=0.4603. device=mps:0. avg epoch time=0.003722\n",
      "  160000/  200000: loss=0.4479. device=mps:0. avg epoch time=0.003723\n",
      "  161000/  200000: loss=0.4612. device=mps:0. avg epoch time=0.003724\n",
      "  162000/  200000: loss=0.5137. device=mps:0. avg epoch time=0.003726\n",
      "  163000/  200000: loss=0.4639. device=mps:0. avg epoch time=0.003727\n",
      "  164000/  200000: loss=0.4247. device=mps:0. avg epoch time=0.003728\n",
      "  165000/  200000: loss=0.4821. device=mps:0. avg epoch time=0.003729\n",
      "  166000/  200000: loss=0.4893. device=mps:0. avg epoch time=0.003730\n",
      "  167000/  200000: loss=0.4610. device=mps:0. avg epoch time=0.003732\n",
      "  168000/  200000: loss=0.4712. device=mps:0. avg epoch time=0.003733\n",
      "  169000/  200000: loss=0.4554. device=mps:0. avg epoch time=0.003734\n",
      "  170000/  200000: loss=0.5155. device=mps:0. avg epoch time=0.003735\n",
      "  171000/  200000: loss=0.4940. device=mps:0. avg epoch time=0.003736\n",
      "  172000/  200000: loss=0.4578. device=mps:0. avg epoch time=0.003737\n",
      "  173000/  200000: loss=0.4800. device=mps:0. avg epoch time=0.003738\n",
      "  174000/  200000: loss=0.4578. device=mps:0. avg epoch time=0.003739\n",
      "  175000/  200000: loss=0.4781. device=mps:0. avg epoch time=0.003740\n",
      "  176000/  200000: loss=0.4977. device=mps:0. avg epoch time=0.003741\n",
      "  177000/  200000: loss=0.4443. device=mps:0. avg epoch time=0.003742\n",
      "  178000/  200000: loss=0.4584. device=mps:0. avg epoch time=0.003743\n",
      "  179000/  200000: loss=0.4474. device=mps:0. avg epoch time=0.003744\n",
      "  180000/  200000: loss=0.5096. device=mps:0. avg epoch time=0.003746\n",
      "  181000/  200000: loss=0.4483. device=mps:0. avg epoch time=0.003748\n",
      "  182000/  200000: loss=0.4606. device=mps:0. avg epoch time=0.003749\n",
      "  183000/  200000: loss=0.4615. device=mps:0. avg epoch time=0.003750\n",
      "  184000/  200000: loss=0.4127. device=mps:0. avg epoch time=0.003751\n",
      "  185000/  200000: loss=0.4541. device=mps:0. avg epoch time=0.003752\n",
      "  186000/  200000: loss=0.4188. device=mps:0. avg epoch time=0.003753\n",
      "  187000/  200000: loss=0.4272. device=mps:0. avg epoch time=0.003755\n",
      "  188000/  200000: loss=0.5179. device=mps:0. avg epoch time=0.003756\n",
      "  189000/  200000: loss=0.4591. device=mps:0. avg epoch time=0.003757\n",
      "  190000/  200000: loss=0.4690. device=mps:0. avg epoch time=0.003759\n",
      "  191000/  200000: loss=0.4441. device=mps:0. avg epoch time=0.003760\n",
      "  192000/  200000: loss=0.4554. device=mps:0. avg epoch time=0.003761\n",
      "  193000/  200000: loss=0.4547. device=mps:0. avg epoch time=0.003762\n",
      "  194000/  200000: loss=0.4921. device=mps:0. avg epoch time=0.003762\n",
      "  195000/  200000: loss=0.5057. device=mps:0. avg epoch time=0.003763\n",
      "  196000/  200000: loss=0.4675. device=mps:0. avg epoch time=0.003763\n",
      "  197000/  200000: loss=0.5429. device=mps:0. avg epoch time=0.003762\n",
      "  198000/  200000: loss=0.4302. device=mps:0. avg epoch time=0.003762\n",
      "  199000/  200000: loss=0.4611. device=mps:0. avg epoch time=0.003762\n",
      "train loss = 0.4612\n",
      "val loss = 0.8286\n",
      "on device mps:0, avg epoch time was 0.003763\n"
     ]
    }
   ],
   "source": [
    "# train loop\n",
    "epochs = 200_000\n",
    "\n",
    "losses = []\n",
    "times = []\n",
    "\n",
    "lr = 0.1\n",
    "network = SingleLayer()\n",
    "network.to(device)\n",
    "\n",
    "sgd = SGD(network.parameters(), lr=0.1)\n",
    "\n",
    "last_time = time.time()\n",
    "\n",
    "for i in range(epochs):\n",
    "    # build minibatch\n",
    "    last_time = time.time()\n",
    "\n",
    "    # empirically:\n",
    "    # BS ~=  32 --> 4ms/epoch @ MPS,  1ms/epoch @ CPU\n",
    "    # BS ~= 512 --> 4ms/epoch @ MPS,  5ms/epoch @ CPU\n",
    "    # BS ~= 768 --> 5ms/epoch @ MPS, 10ms/epoch @ CPU\n",
    "    # need to profile this more w/ torch.mps to see what\n",
    "    # cache line we are saturating\n",
    "    batch_size = 256*3\n",
    "    idxs = torch.randint(0, i1, (batch_size,))\n",
    "    Xb = Xtr[idxs]\n",
    "    Yb = Ytr[idxs]\n",
    "\n",
    "    # forward pass\n",
    "    Yhat = network.forward(Xb)\n",
    "    loss = F.cross_entropy(Yhat, Yb)\n",
    "    losses.append(loss)\n",
    "\n",
    "    # backward pass\n",
    "    network.zero_grad()\n",
    "    loss.backward()\n",
    "    # sgd.step()\n",
    "\n",
    "    Dt = time.time() - last_time\n",
    "    times.append(Dt)\n",
    "\n",
    "    # update\n",
    "    with torch.no_grad():\n",
    "        for _, p in enumerate(network.parameters()):\n",
    "            # print(p.grad)\n",
    "            # grads.setdefault(i, []).append(p.grad.tolist())\n",
    "            p.data = p.data - p.grad*lr \n",
    "    \n",
    "    # stats\n",
    "    if i % 1_000 == 0:\n",
    "        print(f\"{i:8d}/{epochs:8d}: loss={loss:.4f}. device={Xb.device}. avg epoch time={np.mean(np.array(times)):.6f}\")        \n",
    "    \n",
    "calc_loss(\"train\")\n",
    "calc_loss(\"val\")\n",
    "print(f\"on device {Xb.device}, avg epoch time was {np.mean(np.array(times)):.6f}\")\n"
   ]
  },
  {
   "cell_type": "code",
   "execution_count": 15,
   "id": "d1313709-b868-48a1-b1e4-b1953a701e69",
   "metadata": {},
   "outputs": [
    {
     "data": {
      "image/png": "[encoded data removed]",
      "text/plain": [
       "<Figure size 1000x500 with 2 Axes>"
      ]
     },
     "metadata": {},
     "output_type": "display_data"
    }
   ],
   "source": [
    "# visualize the kernels\n",
    "plt.figure(figsize=(10, 5))\n",
    "with torch.no_grad():\n",
    "    for i in range(2):\n",
    "        plt.subplot(1, 2, i+1)\n",
    "        plt.imshow(network.conv1.weight[i].view(5, 5).cpu(), cmap='gray')"
   ]
  },
  {
   "cell_type": "code",
   "execution_count": 16,
   "id": "675afe7e-eb9f-4785-80bc-7129d86a4bcb",
   "metadata": {},
   "outputs": [
    {
     "data": {
      "image/png": "[encoded data removed]",
      "text/plain": [
       "<Figure size 1000x2000 with 8 Axes>"
      ]
     },
     "metadata": {},
     "output_type": "display_data"
    }
   ],
   "source": [
    "# visualize the kernels\n",
    "plt.figure(figsize=(10, 20))\n",
    "with torch.no_grad():\n",
    "    for i in range(8):\n",
    "        plt.subplot(4, 2, i+1)\n",
    "        in_id = i // 2\n",
    "        out_id = i % 2\n",
    "        plt.imshow(network.conv2.weight[in_id, out_id].view(3, 3).cpu(), cmap='gray')"
   ]
  },
  {
   "cell_type": "code",
   "execution_count": 17,
   "id": "d0a72dc5-6922-45a0-87a6-326c617b7a86",
   "metadata": {},
   "outputs": [
    {
     "data": {
      "image/png": "[encoded data removed]",
      "text/plain": [
       "<Figure size 640x480 with 1 Axes>"
      ]
     },
     "metadata": {},
     "output_type": "display_data"
    }
   ],
   "source": [
    "plt.plot(torch.tensor(losses));"
   ]
  },
  {
   "cell_type": "code",
   "execution_count": 18,
   "id": "4651f292-0b2a-4bcc-8e77-a65eaee5dc60",
   "metadata": {},
   "outputs": [
    {
     "data": {
      "image/png": "[encoded data removed]",
      "text/plain": [
       "<Figure size 640x480 with 4 Axes>"
      ]
     },
     "metadata": {},
     "output_type": "display_data"
    }
   ],
   "source": [
    "idx = torch.randint(0, Xte.shape[0], (4,))\n",
    "Xs, Ys = Xte[idx], Yte[idx]\n",
    "Yhat = torch.argmax(network.forward(Xs), dim=1)\n",
    "for i, X in enumerate(Xs):\n",
    "    plt.subplot(2, 2, i+1)\n",
    "    plt.subplots_adjust(top=1.5)\n",
    "    plt.imshow(X.view(8, 8).cpu(), cmap='gray')\n",
    "    ystar = torch.argmax(Ys[i])\n",
    "    yhat = Yhat[i]\n",
    "    plt.title(f\"pred={yhat}, actual={ystar}\")"
   ]
  }
 ],
 "metadata": {
  "kernelspec": {
   "display_name": "Python 3 (ipykernel)",
   "language": "python",
   "name": "python3"
  },
  "language_info": {
   "codemirror_mode": {
    "name": "ipython",
    "version": 3
   },
   "file_extension": ".py",
   "mimetype": "text/x-python",
   "name": "python",
   "nbconvert_exporter": "python",
   "pygments_lexer": "ipython3",
   "version": "3.12.5"
  }
 },
 "nbformat": 4,
 "nbformat_minor": 5
}
