{
 "cells": [
  {
   "cell_type": "code",
   "execution_count": 3,
   "id": "16d29cb9-7250-4117-8668-a855e91905be",
   "metadata": {},
   "outputs": [
    {
     "data": {
      "text/plain": [
       "tensor(0.7966)"
      ]
     },
     "execution_count": 3,
     "metadata": {},
     "output_type": "execute_result"
    }
   ],
   "source": [
    "\n",
    "import torch\n",
    "\n",
    "# what is the expected loss, assuming equally-likely outputs?\n",
    "stupid_logits = torch.tensor([0.0] * 10)\n",
    "stupid_logits[0] = 2.0\n",
    "stupid_counts = stupid_logits.exp()\n",
    "stupid_probs = stupid_counts / stupid_counts.sum(0, keepdim=True)\n",
    "\n",
    "# neg log likelihood\n",
    "-stupid_probs[0].log()"
   ]
  }
 ],
 "metadata": {
  "kernelspec": {
   "display_name": "Python 3 (ipykernel)",
   "language": "python",
   "name": "python3"
  },
  "language_info": {
   "codemirror_mode": {
    "name": "ipython",
    "version": 3
   },
   "file_extension": ".py",
   "mimetype": "text/x-python",
   "name": "python",
   "nbconvert_exporter": "python",
   "pygments_lexer": "ipython3",
   "version": "3.12.4"
  }
 },
 "nbformat": 4,
 "nbformat_minor": 5
}
