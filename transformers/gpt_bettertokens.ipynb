{
 "cells": [
  {
   "cell_type": "code",
   "execution_count": 1,
   "id": "91019ba7-4f35-45df-bc78-f94d6454c10a",
   "metadata": {
    "id": "91019ba7-4f35-45df-bc78-f94d6454c10a"
   },
   "outputs": [],
   "source": [
    "import os\n",
    "os.environ[\"PYTORCH_ENABLE_MPS_FALLBACK\"] = \"1\""
   ]
  },
  {
   "cell_type": "code",
   "execution_count": 2,
   "id": "b4523bc9-2e26-4119-a6d7-3054082ff5d5",
   "metadata": {
    "id": "b4523bc9-2e26-4119-a6d7-3054082ff5d5"
   },
   "outputs": [],
   "source": [
    "from time import time_ns\n",
    "import torch\n",
    "import torch.nn as nn\n",
    "import torch.nn.functional as F\n",
    "import numpy as np\n",
    "import sentencepiece as spm\n",
    "import io\n",
    "from dataclasses import dataclass, astuple\n",
    "import gc\n",
    "\n",
    "import matplotlib.pyplot as plt\n",
    "import seaborn as sns\n",
    "sns.set()\n",
    "\n",
    "from IPython.display import display, Code, clear_output\n",
    "\n",
    "device = torch.device(\"cuda\")\n",
    "vl = {}\n",
    "ls = {}\n",
    "ts = {}\n",
    "\n",
    "vocab_size = 1024"
   ]
  },
  {
   "cell_type": "markdown",
   "id": "b8MMzWFeKsgD",
   "metadata": {
    "id": "b8MMzWFeKsgD"
   },
   "source": [
    "#initialize model"
   ]
  },
  {
   "cell_type": "code",
   "execution_count": 3,
   "id": "I9agYOQkLbGc",
   "metadata": {
    "id": "I9agYOQkLbGc"
   },
   "outputs": [],
   "source": [
    "@dataclass(frozen=True, unsafe_hash=True)\n",
    "class Params:\n",
    "  batch_size: int\n",
    "  block_size: int\n",
    "  n_layer: int\n",
    "  n_head: int\n",
    "  dropout: float\n",
    "  n_embd: int"
   ]
  },
  {
   "cell_type": "code",
   "execution_count": 4,
   "id": "TaWO5bWXKjSM",
   "metadata": {
    "id": "TaWO5bWXKjSM"
   },
   "outputs": [],
   "source": [
    "class Head(nn.Module):\n",
    "    def __init__(self, head_size, dropout):\n",
    "        super().__init__()\n",
    "        self.query = nn.Linear(n_embd, head_size, bias=False)\n",
    "        self.key = nn.Linear(n_embd, head_size, bias=False)\n",
    "        self.value = nn.Linear(n_embd, head_size, bias=False)\n",
    "        self.register_buffer('tril', torch.tril(torch.ones(block_size, block_size)))\n",
    "        self.dropout = nn.Dropout(dropout)\n",
    "\n",
    "    def forward(self, x):\n",
    "        B, T, C = x.shape\n",
    "        k = self.key(x) # (B, T, C)\n",
    "        q = self.query(x) # (B, T, C)\n",
    "        # compute self-attention = QK^T / sqrt(head_size)\n",
    "        # (B, T, C) @ (B, C, T) --> (B, T, T)\n",
    "        wei = q @ k.mT * C**-0.5\n",
    "        # drop out the forward connections\n",
    "        wei = wei.masked_fill(self.tril[:T, :T] == 0, float('-inf')) # LT (B, T, T)\n",
    "        # softmax to get multinomials\n",
    "        wei = F.softmax(wei, dim=-1)\n",
    "\n",
    "        wei = self.dropout(wei)\n",
    "\n",
    "        v = self.value(x)\n",
    "        out = wei @ v # (B, T, T) @ (B, T, C) --> (B, T, C)\n",
    "        return out\n",
    "\n",
    "class MultiHeadAttention(nn.Module):\n",
    "    def __init__(self, n_heads, head_size, dropout):\n",
    "        super().__init__()\n",
    "        self.heads = nn.ModuleList([Head(head_size, dropout) for _ in range(n_heads)])\n",
    "        self.proj = nn.Linear(n_embd, n_embd)\n",
    "        self.dropout = nn.Dropout(dropout)\n",
    "\n",
    "    def forward(self, x):\n",
    "        out = torch.cat([h(x) for h in self.heads], dim=-1)\n",
    "        out = self.proj(out)\n",
    "        out = self.dropout(out)\n",
    "        return out\n",
    "\n",
    "class FeedForward(nn.Module):\n",
    "    def __init__(self, n_embd, dropout):\n",
    "        super().__init__()\n",
    "        self.net = nn.Sequential(\n",
    "            nn.Linear(n_embd, 4 * n_embd),\n",
    "            nn.ReLU(),\n",
    "            nn.Linear(4 * n_embd, n_embd),\n",
    "            nn.Dropout(dropout),\n",
    "        )\n",
    "    def forward(self, x):\n",
    "        return self.net(x)\n",
    "\n",
    "class LayerNorm(nn.Module):\n",
    "    def __init__(self, dim, eps=1e-5):\n",
    "        self.eps = eps\n",
    "        self.gamma = torch.ones(dim, device=device)\n",
    "        self.beta = torch.zeros(dim, device=device)\n",
    "    def forward(self, x):\n",
    "        xmean = x.mean(1, keepdim=True) # \"layer\" mean: across each context window\n",
    "        xvar = x.var(1, keepdim=True)\n",
    "        xhat = (x - xmean) / torch.sqrt(xvar + self.eps) # zscore\n",
    "        self.out = self.gamma * xhat + self.beta\n",
    "        return self.out\n",
    "\n",
    "class Block(nn.Module):\n",
    "    def __init__(self, n_embd, n_head, dropout):\n",
    "        super().__init__()\n",
    "        head_size = n_embd // n_head\n",
    "        assert(head_size * n_head == n_embd)\n",
    "\n",
    "        self.sa = MultiHeadAttention(n_head, head_size, dropout)\n",
    "        self.ffwd = FeedForward(n_embd, dropout)\n",
    "        self.ln1 = nn.LayerNorm(n_embd)\n",
    "        self.ln2 = nn.LayerNorm(n_embd)\n",
    "    def forward(self, x):\n",
    "        # residual connections by adding self\n",
    "        x = x + self.sa(self.ln1(x))\n",
    "        x = x + self.ffwd(self.ln2(x))\n",
    "        return x\n",
    "\n",
    "class BigramLanguageModel(nn.Module):\n",
    "    def __init__(self, params):\n",
    "        super().__init__()\n",
    "\n",
    "        # gives us token embeddings\n",
    "        self.token_embedding_table = nn.Embedding(vocab_size, params.n_embd, device=device)\n",
    "\n",
    "        # embedding corresponding to the position of a token\n",
    "        self.position_embedding_table = nn.Embedding(params.block_size, params.n_embd, device=device)\n",
    "\n",
    "        self.blocks = nn.Sequential(\n",
    "            *[Block(params.n_embd, n_head=params.n_head, dropout=params.dropout) for _ in range(n_layer)]\n",
    "        )\n",
    "\n",
    "        self.ln_f = nn.LayerNorm(params.n_embd)\n",
    "\n",
    "        # language output\n",
    "        self.lm_head = nn.Linear(params.n_embd, vocab_size)\n",
    "\n",
    "\n",
    "    def forward(self, idx, targets=None):\n",
    "        B, T = idx.shape\n",
    "        # idx and targets are both (batchsize, ntoks) tensors\n",
    "        # for each token, we are predicting the probabilities of the next tokens\n",
    "        tok_emb = self.token_embedding_table(idx) # (batchsize, ntoks, embd)\n",
    "        pos_emb = self.position_embedding_table(torch.arange(T, device=device)) # (bs, embd)\n",
    "\n",
    "        x = tok_emb + pos_emb\n",
    "\n",
    "        # invoke self-attention\n",
    "        x = self.blocks(x)\n",
    "        # layernorm before logits\n",
    "        x = self.ln_f(x)\n",
    "\n",
    "        logits = self.lm_head(x) # (B, T, vocab_size)\n",
    "\n",
    "        if targets is None:\n",
    "            loss = None\n",
    "        else:\n",
    "            B, T, C = logits.shape\n",
    "            logits = logits.view(B*T, C) # unpack the token predictions\n",
    "            targets = targets.view(B*T)\n",
    "            loss = F.cross_entropy(logits, targets)\n",
    "\n",
    "        return logits, loss\n",
    "\n",
    "    def generate(self, idx, max_new_tokens):\n",
    "        # idx is (B, T) array of indices in the current context\n",
    "        for _ in range(max_new_tokens):\n",
    "            # crop to the last #block_size tokens\n",
    "            idx_cond = idx[:, -block_size:]\n",
    "            logits, loss = self(idx_cond)\n",
    "            # look at the last time step to predict what comes next\n",
    "            logits = logits[:, -1, :] # (B, C)\n",
    "            probs = F.softmax(logits, dim=1) # (B, C)\n",
    "            idx_next = torch.multinomial(probs, num_samples=1)\n",
    "            idx = torch.cat((idx, idx_next), dim=1) # (B, T+1)\n",
    "        return idx\n"
   ]
  },
  {
   "cell_type": "code",
   "execution_count": 3,
   "id": "8efc5902-06d1-4151-bd77-fd5ff17bdbde",
   "metadata": {
    "colab": {
     "base_uri": "https://localhost:8080/"
    },
    "id": "8efc5902-06d1-4151-bd77-fd5ff17bdbde",
    "outputId": "69ef737c-e228-4b84-fcb5-cee49019b72e"
   },
   "outputs": [
    {
     "name": "stdout",
     "output_type": "stream",
     "text": [
      "--2024-08-22 22:08:11--  https://raw.githubusercontent.com/karpathy/char-rnn/master/data/tinyshakespeare/input.txt\n",
      "Resolving raw.githubusercontent.com (raw.githubusercontent.com)... 185.199.108.133, 185.199.109.133, 185.199.110.133, ...\n",
      "Connecting to raw.githubusercontent.com (raw.githubusercontent.com)|185.199.108.133|:443... connected.\n",
      "HTTP request sent, awaiting response... 200 OK\n",
      "Length: 1115394 (1.1M) [text/plain]\n",
      "Saving to: ‘input.txt.20’\n",
      "\n",
      "\r",
      "input.txt.20          0%[                    ]       0  --.-KB/s               \r",
      "input.txt.20        100%[===================>]   1.06M  --.-KB/s    in 0.007s  \n",
      "\n",
      "2024-08-22 22:08:11 (144 MB/s) - ‘input.txt.20’ saved [1115394/1115394]\n",
      "\n"
     ]
    }
   ],
   "source": [
    "!wget https://raw.githubusercontent.com/karpathy/char-rnn/master/data/tinyshakespeare/input.txt"
   ]
  },
  {
   "cell_type": "markdown",
   "id": "T6jK2db3K84L",
   "metadata": {
    "id": "T6jK2db3K84L"
   },
   "source": [
    "# build dataset"
   ]
  },
  {
   "cell_type": "code",
   "execution_count": 5,
   "id": "09b37623-63d0-4f86-a135-cb95534f1527",
   "metadata": {
    "colab": {
     "base_uri": "https://localhost:8080/"
    },
    "id": "09b37623-63d0-4f86-a135-cb95534f1527",
    "outputId": "e8d8fd19-bd23-460b-96b2-232cf06705e8"
   },
   "outputs": [
    {
     "name": "stdout",
     "output_type": "stream",
     "text": [
      "length = 1115394\n",
      "First Citizen:\n",
      "Before we proceed any further, hear me speak.\n",
      "\n",
      "All:\n",
      "Speak, speak.\n",
      "\n",
      "First Citizen:\n",
      "You\n",
      "torch.Size([405005]) torch.int64\n",
      "tensor([292, 542,   6, 226, 331,  13,  81, 227, 105,  40], device='cuda:0')\n"
     ]
    }
   ],
   "source": [
    "with open('input.txt', 'r', encoding='utf-8') as f:\n",
    "    text = f.read()\n",
    "print(f\"length = {len(text)}\")\n",
    "print(text[:100])\n",
    "#text_bytes = text_bytes.to(device)\n",
    "\n",
    "model = io.BytesIO()\n",
    "sp = spm.SentencePieceTrainer.train(sentence_iterator=(x + '\\n\\n' for x in text.split('\\n\\n')), model_writer=model, vocab_size=vocab_size)\n",
    "sp = spm.SentencePieceProcessor(model_proto=model.getvalue())\n",
    "\n",
    "encode = lambda x: sp.encode(x)\n",
    "decode = lambda x: sp.decode(x)\n",
    "encoded = sp.encode(text)\n",
    "\n",
    "# encode entire dataset\n",
    "data = torch.tensor(encoded, dtype=torch.long)\n",
    "data = data.to(device)\n",
    "print(data.shape, data.dtype)\n",
    "print(data[:10])\n",
    "\n",
    "# tts\n",
    "n = int(0.9*len(data))\n",
    "train_data = data[:n]\n",
    "val_data = data[n:]"
   ]
  },
  {
   "cell_type": "markdown",
   "id": "2iV4x8R-LJaC",
   "metadata": {
    "id": "2iV4x8R-LJaC"
   },
   "source": [
    "# hyperparameters"
   ]
  },
  {
   "cell_type": "code",
   "execution_count": 18,
   "id": "9cf351da-57b2-4a0f-9811-107fd8d53cef",
   "metadata": {
    "id": "9cf351da-57b2-4a0f-9811-107fd8d53cef"
   },
   "outputs": [],
   "source": [
    "params = Params(\n",
    "    batch_size = 16,   # minibatch\n",
    "    block_size = 1024, # context\n",
    "    n_layer = 4,\n",
    "    n_head = 16,\n",
    "    dropout = 0.4,\n",
    "    n_embd = vocab_size,\n",
    ")\n",
    "\n",
    "with torch.no_grad():\n",
    "  gc.collect()\n",
    "  torch.cuda.empty_cache()\n",
    "\n",
    "batch_size: int\n",
    "block_size: int\n",
    "n_layer: int\n",
    "n_head: int\n",
    "dropout: float\n",
    "n_embd: int\n",
    "\n",
    "batch_size, block_size, n_layer, n_head, dropout, n_embd = astuple(params)\n",
    "\n",
    "def get_batch(split):\n",
    "    data = train_data if split == 'train' else val_data\n",
    "    ix = torch.randint(len(data) - block_size, (batch_size,), device=device)\n",
    "    x = torch.stack([data[i : i + block_size] for i in ix]).to(device)\n",
    "    y = torch.stack([data[i + 1 : i + block_size + 1] for i in ix]).to(device)\n",
    "    return x, y\n",
    "\n",
    "@torch.no_grad()\n",
    "def estimate_loss(model, eval_iters, splits=['val']):\n",
    "    out = {}\n",
    "    model.eval()\n",
    "    for split in splits:\n",
    "        losses = torch.zeros(eval_iters)\n",
    "        for k in range(eval_iters):\n",
    "            X, Y = get_batch(split)\n",
    "            logits, loss = model(X, Y)\n",
    "            losses[k] = loss.item()\n",
    "        out[split] = losses.mean()\n",
    "    model.train()\n",
    "    return out"
   ]
  },
  {
   "cell_type": "markdown",
   "id": "59031dd9-f001-4950-a55b-c3100eeac7cb",
   "metadata": {
    "id": "59031dd9-f001-4950-a55b-c3100eeac7cb"
   },
   "source": [
    "# attention"
   ]
  },
  {
   "cell_type": "code",
   "execution_count": 19,
   "id": "8ed5cdcc-76f1-433c-aad9-3a2f67b18522",
   "metadata": {
    "colab": {
     "base_uri": "https://localhost:8080/"
    },
    "id": "8ed5cdcc-76f1-433c-aad9-3a2f67b18522",
    "outputId": "6d6bdba1-c7e3-43b5-ae82-5695dac012c3"
   },
   "outputs": [
    {
     "name": "stdout",
     "output_type": "stream",
     "text": [
      "expected loss given uniform output = 6.931471805599453\n",
      "n_params = 53521408\n"
     ]
    }
   ],
   "source": [
    "torch.manual_seed(1337)\n",
    "\n",
    "m = BigramLanguageModel(params)\n",
    "optimizer = torch.optim.AdamW(m.parameters(), lr=3e-4) # usually, 3e-4 but for stupid networks you can learn faster\n",
    "\n",
    "steps = 0\n",
    "\n",
    "m = m.to(device)\n",
    "loss = (-np.log(1 / vocab_size))\n",
    "print(f'expected loss given uniform output = {loss}')\n",
    "print(f\"n_params = {sum(p.nelement() for p in m.parameters())}\")\n",
    "\n",
    "vl[params] = [estimate_loss(m, 20)[\"val\"]]\n",
    "ls[params] = [loss.item()]\n",
    "DTbar = 0.0"
   ]
  },
  {
   "cell_type": "code",
   "execution_count": null,
   "id": "c780aa58-a2c6-47bb-8320-15e93ba6626d",
   "metadata": {
    "id": "c780aa58-a2c6-47bb-8320-15e93ba6626d"
   },
   "outputs": [],
   "source": [
    "#torch.manual_seed(9999)\n",
    "\n",
    "fig = plt.figure(figsize=(15, 7))\n",
    "ax = fig.add_subplot(1, 1, 1)\n",
    "\n",
    "max_s = 15_000\n",
    "\n",
    "log_out = display(Code(data=f\"{steps:7d}/{max_s:7d}: loss={ls[params][-1]:1.4f}, valloss={vl[params][-1]:.4f}, Tavg={DTbar/1e9:.5f}\", language=\"text\"), display_id=True)\n",
    "plt_out = display(fig, display_id=True)\n",
    "\n",
    "while steps < max_s:\n",
    "    steps += 1\n",
    "    Ta = time_ns()\n",
    "\n",
    "    xb, yb = get_batch('train')\n",
    "    logits, loss = m(xb, yb)\n",
    "    optimizer.zero_grad(set_to_none=True)\n",
    "    loss.backward()\n",
    "    optimizer.step()\n",
    "\n",
    "    DT = time_ns() - Ta\n",
    "    DTbar = (DTbar*steps + DT)/(steps+1)\n",
    "\n",
    "    ls[params].append(loss.item())\n",
    "    vl[params].append(vl[params][-1])\n",
    "    ts[params] = DTbar\n",
    "\n",
    "    if steps % 10 == 0:\n",
    "        if steps % 20 == 0:\n",
    "          vl[params][-1] = estimate_loss(m, 1)[\"val\"]\n",
    "        ax.clear()\n",
    "        ax.set_xlabel(\"epoch\")\n",
    "        ax.set_ylabel(r\"$ -\\log (p) $\")\n",
    "        ax.set_yscale(\"log\")\n",
    "        ax.plot((np.convolve(ls[params], np.ones(5) / 5.0, mode='valid')), label='train')\n",
    "        ax.plot((np.convolve(vl[params], np.ones(5) / 5.0, mode='valid')), label='val')\n",
    "        ax.legend()\n",
    "        ax.set_title(f\"batch={batch_size} ctx={block_size} depth={n_layer} heads={n_head} dropout={dropout}\")\n",
    "        plt_out.update(fig)\n",
    "    log_out.update(Code(data=f\"{steps:7d}/{max_s:7d}: loss={ls[params][-1]:1.4f}, valloss={vl[params][-1]:.4f}, Tavg={DTbar/1e9:.5f}\", language=\"text\"))\n",
    "\n",
    "\n",
    "log_out.update(Code(data=f\"{steps:7d}/{max_s:7d}: loss={ls[params][-1]:1.4f}, valloss={vl[params][-1]:.4f}, Tavg={DTbar/1e9:.5f}\", language=\"text\"))"
   ]
  },
  {
   "cell_type": "markdown",
   "id": "Q5EVxNAPN9eH",
   "metadata": {
    "id": "Q5EVxNAPN9eH"
   },
   "source": [
    "# hyperparameter search"
   ]
  },
  {
   "cell_type": "code",
   "execution_count": null,
   "id": "KM9wTN48N_WJ",
   "metadata": {
    "id": "KM9wTN48N_WJ"
   },
   "outputs": [],
   "source": [
    "fig = plt.figure(figsize=(15, 7));\n",
    "ax = fig.add_subplot(1, 1, 1);\n",
    "max_s = 300\n",
    "\n",
    "dropout = 0.2\n",
    "batch_size = 16    # minibatch\n",
    "block_size = 1024  # ctx\n",
    "\n",
    "all_params = [\n",
    "    Params(\n",
    "        batch_size = batch_size,\n",
    "        block_size = block_size,\n",
    "        n_layer = 18,\n",
    "        n_head = 4,\n",
    "        dropout = dropout,\n",
    "        n_embd = vocab_size,\n",
    "    ),\n",
    "    Params(\n",
    "        batch_size = batch_size,\n",
    "        block_size = block_size,\n",
    "        n_layer = 12,\n",
    "        n_head = 4,\n",
    "        dropout = dropout,\n",
    "        n_embd = vocab_size,\n",
    "    ),\n",
    "    Params(\n",
    "        batch_size = batch_size,\n",
    "        block_size = block_size,\n",
    "        n_layer = 6,\n",
    "        n_head = 4,\n",
    "        dropout = dropout,\n",
    "        n_embd = vocab_size,\n",
    "    ),\n",
    "    Params(\n",
    "        batch_size = batch_size,\n",
    "        block_size = block_size,\n",
    "        n_layer = 8,\n",
    "        n_head = 4,\n",
    "        dropout = dropout,\n",
    "        n_embd = vocab_size,\n",
    "    ),\n",
    "    Params(\n",
    "        batch_size = batch_size,\n",
    "        block_size = block_size,\n",
    "        n_layer = 8,\n",
    "        n_head = 8,\n",
    "        dropout = dropout,\n",
    "        n_embd = vocab_size,\n",
    "    ),\n",
    "    Params(\n",
    "        batch_size = batch_size,\n",
    "        block_size = block_size,\n",
    "        n_layer = 4,\n",
    "        n_head = 16,\n",
    "        dropout = dropout,\n",
    "        n_embd = vocab_size,\n",
    "    ),\n",
    "]"
   ]
  },
  {
   "cell_type": "code",
   "execution_count": null,
   "id": "LpjPirS_OB-h",
   "metadata": {
    "colab": {
     "base_uri": "https://localhost:8080/",
     "height": 705
    },
    "id": "LpjPirS_OB-h",
    "outputId": "83e9b4b5-b25c-4c7d-c2cf-385873542a9b"
   },
   "outputs": [
    {
     "name": "stdout",
     "output_type": "stream",
     "text": [
      "expected loss given uniform output = 6.931471805599453\n",
      "n_params = 229825536\n"
     ]
    },
    {
     "data": {
      "text/html": [
       "<style>pre { line-height: 125%; }\n",
       "td.linenos .normal { color: inherit; background-color: transparent; padding-left: 5px; padding-right: 5px; }\n",
       "span.linenos { color: inherit; background-color: transparent; padding-left: 5px; padding-right: 5px; }\n",
       "td.linenos .special { color: #000000; background-color: #ffffc0; padding-left: 5px; padding-right: 5px; }\n",
       "span.linenos.special { color: #000000; background-color: #ffffc0; padding-left: 5px; padding-right: 5px; }\n",
       ".output_html .hll { background-color: #ffffcc }\n",
       ".output_html { background: #f8f8f8; }\n",
       ".output_html .c { color: #3D7B7B; font-style: italic } /* Comment */\n",
       ".output_html .err { border: 1px solid #FF0000 } /* Error */\n",
       ".output_html .k { color: #008000; font-weight: bold } /* Keyword */\n",
       ".output_html .o { color: #666666 } /* Operator */\n",
       ".output_html .ch { color: #3D7B7B; font-style: italic } /* Comment.Hashbang */\n",
       ".output_html .cm { color: #3D7B7B; font-style: italic } /* Comment.Multiline */\n",
       ".output_html .cp { color: #9C6500 } /* Comment.Preproc */\n",
       ".output_html .cpf { color: #3D7B7B; font-style: italic } /* Comment.PreprocFile */\n",
       ".output_html .c1 { color: #3D7B7B; font-style: italic } /* Comment.Single */\n",
       ".output_html .cs { color: #3D7B7B; font-style: italic } /* Comment.Special */\n",
       ".output_html .gd { color: #A00000 } /* Generic.Deleted */\n",
       ".output_html .ge { font-style: italic } /* Generic.Emph */\n",
       ".output_html .ges { font-weight: bold; font-style: italic } /* Generic.EmphStrong */\n",
       ".output_html .gr { color: #E40000 } /* Generic.Error */\n",
       ".output_html .gh { color: #000080; font-weight: bold } /* Generic.Heading */\n",
       ".output_html .gi { color: #008400 } /* Generic.Inserted */\n",
       ".output_html .go { color: #717171 } /* Generic.Output */\n",
       ".output_html .gp { color: #000080; font-weight: bold } /* Generic.Prompt */\n",
       ".output_html .gs { font-weight: bold } /* Generic.Strong */\n",
       ".output_html .gu { color: #800080; font-weight: bold } /* Generic.Subheading */\n",
       ".output_html .gt { color: #0044DD } /* Generic.Traceback */\n",
       ".output_html .kc { color: #008000; font-weight: bold } /* Keyword.Constant */\n",
       ".output_html .kd { color: #008000; font-weight: bold } /* Keyword.Declaration */\n",
       ".output_html .kn { color: #008000; font-weight: bold } /* Keyword.Namespace */\n",
       ".output_html .kp { color: #008000 } /* Keyword.Pseudo */\n",
       ".output_html .kr { color: #008000; font-weight: bold } /* Keyword.Reserved */\n",
       ".output_html .kt { color: #B00040 } /* Keyword.Type */\n",
       ".output_html .m { color: #666666 } /* Literal.Number */\n",
       ".output_html .s { color: #BA2121 } /* Literal.String */\n",
       ".output_html .na { color: #687822 } /* Name.Attribute */\n",
       ".output_html .nb { color: #008000 } /* Name.Builtin */\n",
       ".output_html .nc { color: #0000FF; font-weight: bold } /* Name.Class */\n",
       ".output_html .no { color: #880000 } /* Name.Constant */\n",
       ".output_html .nd { color: #AA22FF } /* Name.Decorator */\n",
       ".output_html .ni { color: #717171; font-weight: bold } /* Name.Entity */\n",
       ".output_html .ne { color: #CB3F38; font-weight: bold } /* Name.Exception */\n",
       ".output_html .nf { color: #0000FF } /* Name.Function */\n",
       ".output_html .nl { color: #767600 } /* Name.Label */\n",
       ".output_html .nn { color: #0000FF; font-weight: bold } /* Name.Namespace */\n",
       ".output_html .nt { color: #008000; font-weight: bold } /* Name.Tag */\n",
       ".output_html .nv { color: #19177C } /* Name.Variable */\n",
       ".output_html .ow { color: #AA22FF; font-weight: bold } /* Operator.Word */\n",
       ".output_html .w { color: #bbbbbb } /* Text.Whitespace */\n",
       ".output_html .mb { color: #666666 } /* Literal.Number.Bin */\n",
       ".output_html .mf { color: #666666 } /* Literal.Number.Float */\n",
       ".output_html .mh { color: #666666 } /* Literal.Number.Hex */\n",
       ".output_html .mi { color: #666666 } /* Literal.Number.Integer */\n",
       ".output_html .mo { color: #666666 } /* Literal.Number.Oct */\n",
       ".output_html .sa { color: #BA2121 } /* Literal.String.Affix */\n",
       ".output_html .sb { color: #BA2121 } /* Literal.String.Backtick */\n",
       ".output_html .sc { color: #BA2121 } /* Literal.String.Char */\n",
       ".output_html .dl { color: #BA2121 } /* Literal.String.Delimiter */\n",
       ".output_html .sd { color: #BA2121; font-style: italic } /* Literal.String.Doc */\n",
       ".output_html .s2 { color: #BA2121 } /* Literal.String.Double */\n",
       ".output_html .se { color: #AA5D1F; font-weight: bold } /* Literal.String.Escape */\n",
       ".output_html .sh { color: #BA2121 } /* Literal.String.Heredoc */\n",
       ".output_html .si { color: #A45A77; font-weight: bold } /* Literal.String.Interpol */\n",
       ".output_html .sx { color: #008000 } /* Literal.String.Other */\n",
       ".output_html .sr { color: #A45A77 } /* Literal.String.Regex */\n",
       ".output_html .s1 { color: #BA2121 } /* Literal.String.Single */\n",
       ".output_html .ss { color: #19177C } /* Literal.String.Symbol */\n",
       ".output_html .bp { color: #008000 } /* Name.Builtin.Pseudo */\n",
       ".output_html .fm { color: #0000FF } /* Name.Function.Magic */\n",
       ".output_html .vc { color: #19177C } /* Name.Variable.Class */\n",
       ".output_html .vg { color: #19177C } /* Name.Variable.Global */\n",
       ".output_html .vi { color: #19177C } /* Name.Variable.Instance */\n",
       ".output_html .vm { color: #19177C } /* Name.Variable.Magic */\n",
       ".output_html .il { color: #666666 } /* Literal.Number.Integer.Long */</style><div class=\"highlight\"><pre><span></span>     42/    300: loss=5.8110, valloss=5.8545, Tavg=1.17410\n",
       "</pre></div>\n"
      ],
      "text/latex": [
       "\\begin{Verbatim}[commandchars=\\\\\\{\\}]\n",
       "     42/    300: loss=5.8110, valloss=5.8545, Tavg=1.17410\n",
       "\\end{Verbatim}\n"
      ],
      "text/plain": [
       "     42/    300: loss=5.8110, valloss=5.8545, Tavg=1.17410"
      ]
     },
     "metadata": {},
     "output_type": "display_data"
    },
    {
     "data": {
      "image/png": "[encoded data removed]",
      "text/plain": [
       "<Figure size 1500x700 with 1 Axes>"
      ]
     },
     "metadata": {},
     "output_type": "display_data"
    }
   ],
   "source": [
    "for params in all_params:\n",
    "\n",
    "  with torch.no_grad():\n",
    "    gc.collect()\n",
    "    torch.cuda.empty_cache()\n",
    "\n",
    "  batch_size: int\n",
    "  block_size: int\n",
    "  n_layer: int\n",
    "  n_head: int\n",
    "  dropout: float\n",
    "  n_embd: int\n",
    "\n",
    "  batch_size, block_size, n_layer, n_head, dropout, n_embd = astuple(params)\n",
    "\n",
    "  def get_batch(split):\n",
    "      data = train_data if split == 'train' else val_data\n",
    "      ix = torch.randint(len(data) - block_size, (batch_size,), device=device)\n",
    "      x = torch.stack([data[i : i + block_size] for i in ix]).to(device)\n",
    "      y = torch.stack([data[i + 1 : i + block_size + 1] for i in ix]).to(device)\n",
    "      return x, y\n",
    "\n",
    "  @torch.no_grad()\n",
    "  def estimate_loss(model, eval_iters, splits=['val']):\n",
    "      out = {}\n",
    "      model.eval()\n",
    "      for split in splits:\n",
    "          losses = torch.zeros(eval_iters)\n",
    "          for k in range(eval_iters):\n",
    "              X, Y = get_batch(split)\n",
    "              logits, loss = model(X, Y)\n",
    "              losses[k] = loss.item()\n",
    "          out[split] = losses.mean()\n",
    "      model.train()\n",
    "      return out\n",
    "\n",
    "  torch.manual_seed(1337)\n",
    "\n",
    "  m = BigramLanguageModel(params)\n",
    "  optimizer = torch.optim.AdamW(m.parameters(), lr=3e-4) # usually, 3e-4 but for stupid networks you can learn faster\n",
    "\n",
    "  steps = 0\n",
    "\n",
    "  m = m.to(device)\n",
    "  loss = (-np.log(1 / vocab_size))\n",
    "  print(f'expected loss given uniform output = {loss}')\n",
    "  print(f\"n_params = {sum(p.nelement() for p in m.parameters())}\")\n",
    "\n",
    "  vl[params] = [estimate_loss(m, 20)[\"val\"]]\n",
    "  ls[params] = [loss.item()]\n",
    "  DTbar = 0.0\n",
    "\n",
    "  log_out = display(Code(data=f\"{steps:7d}/{max_s:7d}: loss={ls[params][-1]:1.4f}, valloss={vl[params][-1]:.4f}, Tavg={DTbar/1e9:.5f}\", language=\"text\"), display_id=True)\n",
    "  plt_out = display(fig, display_id=True)\n",
    "\n",
    "  while steps < max_s:\n",
    "      steps += 1\n",
    "      Ta = time_ns()\n",
    "\n",
    "      xb, yb = get_batch('train')\n",
    "      logits, loss = m(xb, yb)\n",
    "      optimizer.zero_grad(set_to_none=True)\n",
    "      loss.backward()\n",
    "      optimizer.step()\n",
    "\n",
    "      DT = time_ns() - Ta\n",
    "      DTbar = (DTbar*steps + DT)/(steps+1)\n",
    "\n",
    "      ls[params].append(loss.item())\n",
    "      vl[params].append(vl[params][-1])\n",
    "      ts[params] = DTbar\n",
    "\n",
    "      if steps % 10 == 0:\n",
    "          if steps % 20 == 0:\n",
    "            vl[params][-1] = estimate_loss(m, 1)[\"val\"]\n",
    "          ax.clear()\n",
    "          ax.set_xlabel(\"epoch\")\n",
    "          ax.set_ylabel(r\"$ -\\log (p) $\")\n",
    "          ax.set_yscale(\"log\")\n",
    "          ax.plot((np.convolve(ls[params], np.ones(5) / 5.0, mode='valid')), label='train')\n",
    "          ax.plot((np.convolve(vl[params], np.ones(5) / 5.0, mode='valid')), label='val')\n",
    "          ax.legend()\n",
    "          ax.set_title(f\"batch={batch_size} ctx={block_size} depth={n_layer} heads={n_head} dropout={dropout}\")\n",
    "          plt_out.update(fig)\n",
    "      log_out.update(Code(data=f\"{steps:7d}/{max_s:7d}: loss={ls[params][-1]:1.4f}, valloss={vl[params][-1]:.4f}, Tavg={DTbar/1e9:.5f}\", language=\"text\"))\n",
    "\n",
    "\n",
    "  log_out.update(Code(data=f\"{steps:7d}/{max_s:7d}: loss={ls[params][-1]:1.4f}, valloss={vl[params][-1]:.4f}, Tavg={DTbar/1e9:.5f}\", language=\"text\"))"
   ]
  },
  {
   "cell_type": "code",
   "execution_count": null,
   "id": "9e288145-4fee-4b72-8303-56a6112ae927",
   "metadata": {
    "id": "9e288145-4fee-4b72-8303-56a6112ae927"
   },
   "outputs": [],
   "source": [
    "estimate_loss(m, 20)"
   ]
  },
  {
   "cell_type": "code",
   "execution_count": null,
   "id": "2f7feefc-2e50-40f5-aecc-e489b78cc03d",
   "metadata": {
    "id": "2f7feefc-2e50-40f5-aecc-e489b78cc03d"
   },
   "outputs": [],
   "source": [
    "steps"
   ]
  },
  {
   "cell_type": "code",
   "execution_count": null,
   "id": "6cfffbfd-863f-480f-9a10-66cb202712e7",
   "metadata": {
    "id": "6cfffbfd-863f-480f-9a10-66cb202712e7"
   },
   "outputs": [],
   "source": [
    "prompt = torch.zeros((1, 1), dtype = torch.long, device=device)"
   ]
  },
  {
   "cell_type": "code",
   "execution_count": null,
   "id": "4473413e-60aa-4cf1-9278-06a64f891b52",
   "metadata": {
    "id": "4473413e-60aa-4cf1-9278-06a64f891b52"
   },
   "outputs": [],
   "source": [
    "def wrap(x):\n",
    "    w = 80\n",
    "    i = 0\n",
    "    s = []\n",
    "    while i < len(x):\n",
    "        s.append(x[i:i+w])\n",
    "        i += w\n",
    "    return \"\\n\".join(s)\n",
    "\n",
    "from IPython.display import display, Code, clear_output\n",
    "\n",
    "while True:\n",
    "    try:\n",
    "      prompt = m.generate(prompt, max_new_tokens=100)\n",
    "      clear_output(wait=True)\n",
    "      display(Code(data=wrap(decode(prompt[0].tolist())), language=\"text\"))\n",
    "    except KeyboardInterrupt:\n",
    "      clear_output(wait=True)\n",
    "      print(wrap(decode(prompt[0].tolist())))\n",
    "      break\n"
   ]
  }
 ],
 "metadata": {
  "accelerator": "GPU",
  "colab": {
   "gpuType": "A100",
   "machine_shape": "hm",
   "provenance": []
  },
  "kernelspec": {
   "display_name": "Python 3 (ipykernel)",
   "language": "python",
   "name": "python3"
  },
  "language_info": {
   "codemirror_mode": {
    "name": "ipython",
    "version": 3
   },
   "file_extension": ".py",
   "mimetype": "text/x-python",
   "name": "python",
   "nbconvert_exporter": "python",
   "pygments_lexer": "ipython3",
   "version": "3.12.5"
  }
 },
 "nbformat": 4,
 "nbformat_minor": 5
}
