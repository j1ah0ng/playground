{
 "cells": [
  {
   "cell_type": "markdown",
   "id": "dc1b8725-74b0-4528-aef8-3e19a70b6568",
   "metadata": {},
   "source": [
    "# po(n)g"
   ]
  },
  {
   "cell_type": "code",
   "execution_count": 2,
   "id": "493f2018-31f8-4cc9-be9f-75f002dfc36a",
   "metadata": {},
   "outputs": [],
   "source": [
    "import numpy as np\n",
    "import torch \n",
    "import torch.nn.functional as F\n",
    "import torch.nn as nn\n",
    "\n",
    "import matplotlib.pyplot as plt\n",
    "import seaborn as sns\n",
    "#sns.set()\n",
    "\n",
    "import gymnasium as gym\n",
    "import ale_py\n",
    "gym.register_envs(ale_py)\n",
    "\n",
    "from IPython.display import display, Code, clear_output\n",
    "\n",
    "device = torch.device(\"mps\")"
   ]
  },
  {
   "cell_type": "markdown",
   "id": "5041b967-796d-4c07-8d80-fb54f9f93e10",
   "metadata": {},
   "source": [
    "spin up the RL env"
   ]
  },
  {
   "cell_type": "code",
   "execution_count": 2,
   "id": "cc2ef39c-00e2-442d-870f-7a008cdbfe42",
   "metadata": {},
   "outputs": [
    {
     "name": "stderr",
     "output_type": "stream",
     "text": [
      "A.L.E: Arcade Learning Environment (version 0.9.1+aff5939)\n",
      "[Powered by Stella]\n"
     ]
    }
   ],
   "source": [
    "env = gym.make(\"ALE/Pong-v5\", obs_type='grayscale', render_mode='rgb_array')\n",
    "observation = env.reset()\n",
    "env.render();"
   ]
  },
  {
   "cell_type": "code",
   "execution_count": 3,
   "id": "fd3a4f10-3047-4d2b-9308-db4c1baa5c06",
   "metadata": {},
   "outputs": [],
   "source": [
    "ymin, ymax = 34, 194"
   ]
  },
  {
   "cell_type": "code",
   "execution_count": 4,
   "id": "72c3d907-4d21-4648-b26d-1ef8a4d7f984",
   "metadata": {},
   "outputs": [
    {
     "data": {
      "text/plain": [
       "(array([[  0,   0,   0, ..., 107, 107, 107],\n",
       "        [107, 107, 107, ..., 107, 107, 107],\n",
       "        [107, 107, 107, ..., 107, 107, 107],\n",
       "        ...,\n",
       "        [ 74,  74,  74, ...,  74,  74,  74],\n",
       "        [ 74,  74,  74, ...,  74,  74,  74],\n",
       "        [ 74,  74,  74, ...,  74,  74,  74]], dtype=uint8),\n",
       " {'lives': 0, 'episode_frame_number': 0, 'frame_number': 0})"
      ]
     },
     "execution_count": 4,
     "metadata": {},
     "output_type": "execute_result"
    }
   ],
   "source": [
    "observation"
   ]
  },
  {
   "cell_type": "code",
   "execution_count": 4,
   "id": "80c05a33-f1f1-4a8e-b0ad-f03267647790",
   "metadata": {},
   "outputs": [],
   "source": [
    "def get_model_input(obs):\n",
    "    screen = obs\n",
    "    truncated = screen[ymin:ymax]\n",
    "    blanked = truncated\n",
    "    blanked[blanked == obs[0, 0]] = 0\n",
    "    downsampled = torch.from_numpy(blanked[::2, ::2])\n",
    "\n",
    "    # convert to floats, clamped 0-1\n",
    "    flt = downsampled.float()\n",
    "    return (flt / 255).flatten().to(device)"
   ]
  },
  {
   "cell_type": "code",
   "execution_count": 56,
   "id": "ff471f9e-b20c-49b5-ae59-8c5964cbc9be",
   "metadata": {},
   "outputs": [],
   "source": [
    "obs1, *_ = env.step(NOOP)\n",
    "obs2, *_ = env.step(NOOP)\n",
    "obs3, *_ = env.step(NOOP)\n",
    "obs4, *_ = env.step(NOOP)"
   ]
  },
  {
   "cell_type": "code",
   "execution_count": 58,
   "id": "23c2a17e-c078-4047-a811-77934ca5941b",
   "metadata": {},
   "outputs": [
    {
     "data": {
      "text/plain": [
       "<matplotlib.image.AxesImage at 0x3407e7650>"
      ]
     },
     "execution_count": 58,
     "metadata": {},
     "output_type": "execute_result"
    },
    {
     "data": {
      "image/png": "[encoded data removed]",
      "text/plain": [
       "<Figure size 640x480 with 1 Axes>"
      ]
     },
     "metadata": {},
     "output_type": "display_data"
    }
   ],
   "source": [
    "plt.imshow(get_model_input(obs1 + obs2/2 + obs3/3 + obs4/4).view(80, 80), cmap='gray')"
   ]
  },
  {
   "cell_type": "code",
   "execution_count": 20,
   "id": "3ab4ec4e-6f59-4e40-9792-a07154a441f4",
   "metadata": {},
   "outputs": [
    {
     "name": "stdout",
     "output_type": "stream",
     "text": [
      "0.0 [False, False, {'lives': 0, 'episode_frame_number': 4, 'frame_number': 4}]\n"
     ]
    },
    {
     "data": {
      "text/plain": [
       "<matplotlib.image.AxesImage at 0x3199553a0>"
      ]
     },
     "execution_count": 20,
     "metadata": {},
     "output_type": "execute_result"
    },
    {
     "data": {
      "image/png": "[encoded data removed]",
      "text/plain": [
       "<Figure size 640x480 with 1 Axes>"
      ]
     },
     "metadata": {},
     "output_type": "display_data"
    }
   ],
   "source": [
    "observation, reward, *x = env.step(NOOP)\n",
    "print(reward, x)\n",
    "plt.imshow(get_model_input(observation).view(80, 80), cmap='gray')"
   ]
  },
  {
   "cell_type": "code",
   "execution_count": 5,
   "id": "f743824e-6d87-4fd5-a039-29a9f7e6964c",
   "metadata": {},
   "outputs": [],
   "source": [
    "# the deep Q network.\n",
    "# the output will be a single probability representing P(go up).\n",
    "n_embd = 50\n",
    "\n",
    "class Qnn(nn.Module):\n",
    "    def __init__(self, n_embd):\n",
    "        super().__init__()\n",
    "        \n",
    "        self.n_embd = n_embd\n",
    "\n",
    "        # (B, 80*80) -> (B, n_embd)\n",
    "        self.l1 = nn.Linear(80*80, n_embd)\n",
    "        self.ln1 = nn.LayerNorm(n_embd)\n",
    "        # (B, n_embd) -> (B, 2)\n",
    "        # interpret the output as logits for UP, DOWN, NOOP\n",
    "        self.l2 = nn.Linear(n_embd, 3)\n",
    "        self.ln2 = nn.LayerNorm(3)\n",
    "\n",
    "    def forward(self, x):\n",
    "        y = (x - torch.mean(x)) / torch.var(x)**0.5\n",
    "        y = self.l1(y)\n",
    "        y = self.ln1(y)\n",
    "        y = F.gelu(y)\n",
    "        y = self.l2(y)\n",
    "        y = self.ln2(y)\n",
    "        return F.gelu(y)"
   ]
  },
  {
   "cell_type": "code",
   "execution_count": 37,
   "id": "858607b1-f747-432e-9be0-8c30d640023a",
   "metadata": {},
   "outputs": [],
   "source": [
    "network = Qnn(n_embd)\n",
    "network = network.to(device)"
   ]
  },
  {
   "cell_type": "code",
   "execution_count": 42,
   "id": "aedaa77f-2e8e-4a40-a81c-8f0d38103866",
   "metadata": {},
   "outputs": [],
   "source": [
    "UP = 2\n",
    "DOWN = 3\n",
    "NOOP = 0\n",
    "\n",
    "# fig = plt.figure(figsize=(15, 7))\n",
    "# ax = fig.add_subplot(1, 1, 1)\n",
    "\n",
    "# chart = display(fig, display_id=True)\n",
    "\n",
    "def run_episode(model, env, gamma=0.8):\n",
    "    obs1 = env.reset()[0]\n",
    "    obs2, reward, *_ = env.step(NOOP)\n",
    "    obs3, *_ = env.step(NOOP)\n",
    "    obs4, *_ = env.step(NOOP)\n",
    "\n",
    "    # run until we score or lose\n",
    "    action_indices = []\n",
    "    all_probs = []\n",
    "    total_reward = 0.0\n",
    "    stepi = 0\n",
    "    while stepi < 500:\n",
    "        stepi += 1\n",
    "        \n",
    "        x = get_model_input(obs1 + obs2/2 + obs3/3 + obs4/4)\n",
    "        logits = model(x)\n",
    "\n",
    "        # sample from Pi(s, a)\n",
    "        probs = F.softmax(logits, dim=-1)\n",
    "        all_probs.append(probs)\n",
    "        \n",
    "        action_idx = torch.multinomial(probs, 1).item()\n",
    "        action_indices.append(action_idx)\n",
    "\n",
    "        # evaluate the Q-fn\n",
    "        obs1 = obs2\n",
    "        obs2 = obs3\n",
    "        obs3 = obs4\n",
    "        obs4, reward, *_ = env.step({0: UP, 1: DOWN, 2: NOOP}[action_idx])\n",
    "\n",
    "        if reward > 0:\n",
    "            print(\"hooray!\")\n",
    "\n",
    "        # boost the reward heuristically\n",
    "        if i > 150 and i < 200 and total_reward >= 0:\n",
    "            reward += 2.0\n",
    "\n",
    "        # accumulate the reward\n",
    "        total_reward += gamma**stepi * reward\n",
    "\n",
    "    # punish or encourage\n",
    "    # if total_reward >= 0:\n",
    "    #     grad = torch.tensor([1.0])\n",
    "    # else:\n",
    "    #     grad = torch.tensor([-1.0])\n",
    "\n",
    "    # update gradients\n",
    "    total_reward += 1\n",
    "    loss = 0.0\n",
    "    for action_idx, probs in zip(action_indices, all_probs):\n",
    "        loss += -probs[action_idx].log() - total_reward\n",
    "\n",
    "    return loss\n",
    "        "
   ]
  },
  {
   "cell_type": "code",
   "execution_count": 43,
   "id": "6e272de3-6b30-4b7c-825e-7539f2b71fc9",
   "metadata": {},
   "outputs": [],
   "source": [
    "def train_one_episode(optimizer, model, env):\n",
    "    optimizer.zero_grad()\n",
    "    outs = run_episode(model, env)\n",
    "    for out in outs:\n",
    "        out.backward(retain_graph=True)\n",
    "    optimizer.step()"
   ]
  },
  {
   "cell_type": "code",
   "execution_count": 44,
   "id": "64bf53a0-8a20-4d9b-b8f0-3fc4f0b44633",
   "metadata": {},
   "outputs": [],
   "source": [
    "optim = torch.optim.SGD(network.parameters(), lr=0.01, weight_decay=1e-4)"
   ]
  },
  {
   "cell_type": "code",
   "execution_count": 45,
   "id": "cc9e8fcf-1ab5-4745-bf25-8012a9403e78",
   "metadata": {},
   "outputs": [
    {
     "name": "stdout",
     "output_type": "stream",
     "text": [
      "nan\n",
      "nan\n",
      "nan\n",
      "nan\n"
     ]
    },
    {
     "ename": "KeyboardInterrupt",
     "evalue": "",
     "output_type": "error",
     "traceback": [
      "\u001b[0;31m---------------------------------------------------------------------------\u001b[0m",
      "\u001b[0;31mKeyboardInterrupt\u001b[0m                         Traceback (most recent call last)",
      "Cell \u001b[0;32mIn[45], line 12\u001b[0m\n\u001b[1;32m     10\u001b[0m batch_loss \u001b[38;5;241m=\u001b[39m \u001b[38;5;241m0.0\u001b[39m\n\u001b[1;32m     11\u001b[0m \u001b[38;5;28;01mfor\u001b[39;00m j \u001b[38;5;129;01min\u001b[39;00m \u001b[38;5;28mrange\u001b[39m(bs):\n\u001b[0;32m---> 12\u001b[0m     batch_loss \u001b[38;5;241m+\u001b[39m\u001b[38;5;241m=\u001b[39m \u001b[43mrun_episode\u001b[49m\u001b[43m(\u001b[49m\u001b[43mnetwork\u001b[49m\u001b[43m,\u001b[49m\u001b[43m \u001b[49m\u001b[43menv\u001b[49m\u001b[43m)\u001b[49m\n\u001b[1;32m     13\u001b[0m \u001b[38;5;28mprint\u001b[39m(batch_loss\u001b[38;5;241m.\u001b[39mitem())\n\u001b[1;32m     15\u001b[0m batch_loss\u001b[38;5;241m.\u001b[39mbackward()\n",
      "Cell \u001b[0;32mIn[42], line 31\u001b[0m, in \u001b[0;36mrun_episode\u001b[0;34m(model, env, gamma)\u001b[0m\n\u001b[1;32m     28\u001b[0m probs \u001b[38;5;241m=\u001b[39m F\u001b[38;5;241m.\u001b[39msoftmax(logits, dim\u001b[38;5;241m=\u001b[39m\u001b[38;5;241m-\u001b[39m\u001b[38;5;241m1\u001b[39m)\n\u001b[1;32m     29\u001b[0m all_probs\u001b[38;5;241m.\u001b[39mappend(probs)\n\u001b[0;32m---> 31\u001b[0m action_idx \u001b[38;5;241m=\u001b[39m \u001b[43mtorch\u001b[49m\u001b[38;5;241;43m.\u001b[39;49m\u001b[43mmultinomial\u001b[49m\u001b[43m(\u001b[49m\u001b[43mprobs\u001b[49m\u001b[43m,\u001b[49m\u001b[43m \u001b[49m\u001b[38;5;241;43m1\u001b[39;49m\u001b[43m)\u001b[49m\u001b[38;5;241m.\u001b[39mitem()\n\u001b[1;32m     32\u001b[0m action_indices\u001b[38;5;241m.\u001b[39mappend(action_idx)\n\u001b[1;32m     34\u001b[0m \u001b[38;5;66;03m# evaluate the Q-fn\u001b[39;00m\n",
      "\u001b[0;31mKeyboardInterrupt\u001b[0m: "
     ]
    }
   ],
   "source": [
    "env = gym.make(\"ALE/Pong-v5\", obs_type='grayscale', render_mode='rgb_array')\n",
    "observation = env.reset()\n",
    "env.render()\n",
    "\n",
    "epochs = 100_000\n",
    "bs = 5\n",
    "\n",
    "for i in range(epochs):\n",
    "    optim.zero_grad()\n",
    "    batch_loss = 0.0\n",
    "    for j in range(bs):\n",
    "        batch_loss += run_episode(network, env)\n",
    "    print(batch_loss.item())\n",
    "    \n",
    "    batch_loss.backward()\n",
    "    optim.step()"
   ]
  },
  {
   "cell_type": "code",
   "execution_count": 35,
   "id": "0e81433f-80d3-4dc5-a70a-af1513c11441",
   "metadata": {},
   "outputs": [
    {
     "ename": "KeyboardInterrupt",
     "evalue": "",
     "output_type": "error",
     "traceback": [
      "\u001b[0;31m---------------------------------------------------------------------------\u001b[0m",
      "\u001b[0;31mKeyboardInterrupt\u001b[0m                         Traceback (most recent call last)",
      "Cell \u001b[0;32mIn[35], line 12\u001b[0m\n\u001b[1;32m     10\u001b[0m batch_loss \u001b[38;5;241m=\u001b[39m \u001b[38;5;241m0.0\u001b[39m\n\u001b[1;32m     11\u001b[0m \u001b[38;5;28;01mfor\u001b[39;00m j \u001b[38;5;129;01min\u001b[39;00m \u001b[38;5;28mrange\u001b[39m(bs):\n\u001b[0;32m---> 12\u001b[0m     batch_loss \u001b[38;5;241m+\u001b[39m\u001b[38;5;241m=\u001b[39m \u001b[43mrun_episode\u001b[49m\u001b[43m(\u001b[49m\u001b[43mnetwork\u001b[49m\u001b[43m,\u001b[49m\u001b[43m \u001b[49m\u001b[43menv\u001b[49m\u001b[43m)\u001b[49m\n\u001b[1;32m     13\u001b[0m \u001b[38;5;28mprint\u001b[39m(batch_loss\u001b[38;5;241m.\u001b[39mitem())\n\u001b[1;32m     15\u001b[0m batch_loss\u001b[38;5;241m.\u001b[39mbackward()\n",
      "Cell \u001b[0;32mIn[31], line 38\u001b[0m, in \u001b[0;36mrun_episode\u001b[0;34m(model, env, gamma)\u001b[0m\n\u001b[1;32m     36\u001b[0m obs2 \u001b[38;5;241m=\u001b[39m obs3\n\u001b[1;32m     37\u001b[0m obs3 \u001b[38;5;241m=\u001b[39m obs4\n\u001b[0;32m---> 38\u001b[0m obs4, reward, \u001b[38;5;241m*\u001b[39m_ \u001b[38;5;241m=\u001b[39m \u001b[43menv\u001b[49m\u001b[38;5;241;43m.\u001b[39;49m\u001b[43mstep\u001b[49m\u001b[43m(\u001b[49m\u001b[43m{\u001b[49m\u001b[38;5;241;43m0\u001b[39;49m\u001b[43m:\u001b[49m\u001b[43m \u001b[49m\u001b[43mUP\u001b[49m\u001b[43m,\u001b[49m\u001b[43m \u001b[49m\u001b[38;5;241;43m1\u001b[39;49m\u001b[43m:\u001b[49m\u001b[43m \u001b[49m\u001b[43mDOWN\u001b[49m\u001b[43m,\u001b[49m\u001b[43m \u001b[49m\u001b[38;5;241;43m2\u001b[39;49m\u001b[43m:\u001b[49m\u001b[43m \u001b[49m\u001b[43mNOOP\u001b[49m\u001b[43m}\u001b[49m\u001b[43m[\u001b[49m\u001b[43maction_idx\u001b[49m\u001b[43m]\u001b[49m\u001b[43m)\u001b[49m\n\u001b[1;32m     40\u001b[0m \u001b[38;5;28;01mif\u001b[39;00m reward \u001b[38;5;241m>\u001b[39m \u001b[38;5;241m0\u001b[39m:\n\u001b[1;32m     41\u001b[0m     \u001b[38;5;28mprint\u001b[39m(\u001b[38;5;124m\"\u001b[39m\u001b[38;5;124mhooray!\u001b[39m\u001b[38;5;124m\"\u001b[39m)\n",
      "File \u001b[0;32m/opt/homebrew/lib/python3.12/site-packages/gymnasium/wrappers/order_enforcing.py:56\u001b[0m, in \u001b[0;36mOrderEnforcing.step\u001b[0;34m(self, action)\u001b[0m\n\u001b[1;32m     54\u001b[0m \u001b[38;5;28;01mif\u001b[39;00m \u001b[38;5;129;01mnot\u001b[39;00m \u001b[38;5;28mself\u001b[39m\u001b[38;5;241m.\u001b[39m_has_reset:\n\u001b[1;32m     55\u001b[0m     \u001b[38;5;28;01mraise\u001b[39;00m ResetNeeded(\u001b[38;5;124m\"\u001b[39m\u001b[38;5;124mCannot call env.step() before calling env.reset()\u001b[39m\u001b[38;5;124m\"\u001b[39m)\n\u001b[0;32m---> 56\u001b[0m \u001b[38;5;28;01mreturn\u001b[39;00m \u001b[38;5;28;43mself\u001b[39;49m\u001b[38;5;241;43m.\u001b[39;49m\u001b[43menv\u001b[49m\u001b[38;5;241;43m.\u001b[39;49m\u001b[43mstep\u001b[49m\u001b[43m(\u001b[49m\u001b[43maction\u001b[49m\u001b[43m)\u001b[49m\n",
      "File \u001b[0;32m/opt/homebrew/lib/python3.12/site-packages/gymnasium/wrappers/env_checker.py:51\u001b[0m, in \u001b[0;36mPassiveEnvChecker.step\u001b[0;34m(self, action)\u001b[0m\n\u001b[1;32m     49\u001b[0m     \u001b[38;5;28;01mreturn\u001b[39;00m env_step_passive_checker(\u001b[38;5;28mself\u001b[39m\u001b[38;5;241m.\u001b[39menv, action)\n\u001b[1;32m     50\u001b[0m \u001b[38;5;28;01melse\u001b[39;00m:\n\u001b[0;32m---> 51\u001b[0m     \u001b[38;5;28;01mreturn\u001b[39;00m \u001b[38;5;28;43mself\u001b[39;49m\u001b[38;5;241;43m.\u001b[39;49m\u001b[43menv\u001b[49m\u001b[38;5;241;43m.\u001b[39;49m\u001b[43mstep\u001b[49m\u001b[43m(\u001b[49m\u001b[43maction\u001b[49m\u001b[43m)\u001b[49m\n",
      "File \u001b[0;32m/opt/homebrew/lib/python3.12/site-packages/ale_py/env.py:250\u001b[0m, in \u001b[0;36mAtariEnv.step\u001b[0;34m(self, action)\u001b[0m\n\u001b[1;32m    248\u001b[0m reward \u001b[38;5;241m=\u001b[39m \u001b[38;5;241m0.0\u001b[39m\n\u001b[1;32m    249\u001b[0m \u001b[38;5;28;01mfor\u001b[39;00m _ \u001b[38;5;129;01min\u001b[39;00m \u001b[38;5;28mrange\u001b[39m(frameskip):\n\u001b[0;32m--> 250\u001b[0m     reward \u001b[38;5;241m+\u001b[39m\u001b[38;5;241m=\u001b[39m \u001b[38;5;28;43mself\u001b[39;49m\u001b[38;5;241;43m.\u001b[39;49m\u001b[43male\u001b[49m\u001b[38;5;241;43m.\u001b[39;49m\u001b[43mact\u001b[49m\u001b[43m(\u001b[49m\u001b[38;5;28;43mself\u001b[39;49m\u001b[38;5;241;43m.\u001b[39;49m\u001b[43m_action_set\u001b[49m\u001b[43m[\u001b[49m\u001b[43maction\u001b[49m\u001b[43m]\u001b[49m\u001b[43m)\u001b[49m\n\u001b[1;32m    251\u001b[0m is_terminal \u001b[38;5;241m=\u001b[39m \u001b[38;5;28mself\u001b[39m\u001b[38;5;241m.\u001b[39male\u001b[38;5;241m.\u001b[39mgame_over(with_truncation\u001b[38;5;241m=\u001b[39m\u001b[38;5;28;01mFalse\u001b[39;00m)\n\u001b[1;32m    252\u001b[0m is_truncated \u001b[38;5;241m=\u001b[39m \u001b[38;5;28mself\u001b[39m\u001b[38;5;241m.\u001b[39male\u001b[38;5;241m.\u001b[39mgame_truncated()\n",
      "\u001b[0;31mKeyboardInterrupt\u001b[0m: "
     ]
    }
   ],
   "source": [
    "env = gym.make(\"ALE/Pong-v5\", obs_type='grayscale', render_mode='human')\n",
    "observation = env.reset()\n",
    "env.render()\n",
    "\n",
    "epochs = 100_000\n",
    "bs = 5\n",
    "\n",
    "for i in range(epochs):\n",
    "    optim.zero_grad()\n",
    "    batch_loss = 0.0\n",
    "    for j in range(bs):\n",
    "        batch_loss += run_episode(network, env)\n",
    "    print(batch_loss.item())\n",
    "    \n",
    "    batch_loss.backward()\n",
    "    optim.step()"
   ]
  },
  {
   "cell_type": "code",
   "execution_count": null,
   "id": "8bc9f7d3-e31c-4dad-a54c-ecb314b9ccb0",
   "metadata": {},
   "outputs": [],
   "source": []
  }
 ],
 "metadata": {
  "kernelspec": {
   "display_name": "Python 3 (ipykernel)",
   "language": "python",
   "name": "python3"
  },
  "language_info": {
   "codemirror_mode": {
    "name": "ipython",
    "version": 3
   },
   "file_extension": ".py",
   "mimetype": "text/x-python",
   "name": "python",
   "nbconvert_exporter": "python",
   "pygments_lexer": "ipython3",
   "version": "3.12.5"
  }
 },
 "nbformat": 4,
 "nbformat_minor": 5
}
